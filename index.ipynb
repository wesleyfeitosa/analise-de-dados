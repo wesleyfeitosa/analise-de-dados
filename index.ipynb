{
 "cells": [
  {
   "cell_type": "code",
   "execution_count": 1,
   "id": "f064c4ea-75fc-4b83-88b1-8a8522c207e9",
   "metadata": {
    "collapsed": true,
    "jupyter": {
     "outputs_hidden": true
    }
   },
   "outputs": [],
   "source": [
    "import pandas"
   ]
  },
  {
   "cell_type": "code",
   "execution_count": 2,
   "id": "b26a7f51-9d36-448d-90dd-5ebde14c976f",
   "metadata": {
    "collapsed": true,
    "jupyter": {
     "outputs_hidden": true
    }
   },
   "outputs": [],
   "source": [
    "dfClientes = pandas.read_excel('caso_estudo.xlsx', sheet_name='clientes')\n",
    "dfLojas = pandas.read_excel('caso_estudo.xlsx', sheet_name='lojas')\n",
    "dfProdutos = pandas.read_excel('caso_estudo.xlsx', sheet_name='produtos')\n",
    "dfVendas = pandas.read_excel('caso_estudo.xlsx', sheet_name='vendas')\n",
    "dfPagamentos = pandas.read_excel('caso_estudo.xlsx', sheet_name='pagamentos')"
   ]
  },
  {
   "cell_type": "markdown",
   "id": "d3fd9c72-4d77-48d2-8aac-162a8eb98d28",
   "metadata": {},
   "source": [
    "# Analise Preliminar"
   ]
  },
  {
   "cell_type": "code",
   "execution_count": 3,
   "id": "546ae32d-c9d6-44a8-9225-652dde9763d7",
   "metadata": {
    "collapsed": true,
    "jupyter": {
     "outputs_hidden": true
    },
    "tags": []
   },
   "outputs": [
    {
     "data": {
      "text/html": [
       "<div>\n",
       "<style scoped>\n",
       "    .dataframe tbody tr th:only-of-type {\n",
       "        vertical-align: middle;\n",
       "    }\n",
       "\n",
       "    .dataframe tbody tr th {\n",
       "        vertical-align: top;\n",
       "    }\n",
       "\n",
       "    .dataframe thead th {\n",
       "        text-align: right;\n",
       "    }\n",
       "</style>\n",
       "<table border=\"1\" class=\"dataframe\">\n",
       "  <thead>\n",
       "    <tr style=\"text-align: right;\">\n",
       "      <th></th>\n",
       "      <th>id</th>\n",
       "      <th>nome</th>\n",
       "      <th>sexo</th>\n",
       "      <th>dt_nasc</th>\n",
       "    </tr>\n",
       "  </thead>\n",
       "  <tbody>\n",
       "    <tr>\n",
       "      <th>887</th>\n",
       "      <td>888</td>\n",
       "      <td>Melissa Castro</td>\n",
       "      <td>F</td>\n",
       "      <td>5/15/2002</td>\n",
       "    </tr>\n",
       "    <tr>\n",
       "      <th>943</th>\n",
       "      <td>944</td>\n",
       "      <td>Igor Santos</td>\n",
       "      <td>M</td>\n",
       "      <td>2/15/1975</td>\n",
       "    </tr>\n",
       "    <tr>\n",
       "      <th>623</th>\n",
       "      <td>624</td>\n",
       "      <td>Bianca Pereira</td>\n",
       "      <td>F</td>\n",
       "      <td>9/7/1952</td>\n",
       "    </tr>\n",
       "    <tr>\n",
       "      <th>216</th>\n",
       "      <td>217</td>\n",
       "      <td>Rafaela Almeida</td>\n",
       "      <td>F</td>\n",
       "      <td>7/25/2003</td>\n",
       "    </tr>\n",
       "    <tr>\n",
       "      <th>507</th>\n",
       "      <td>508</td>\n",
       "      <td>João Alves</td>\n",
       "      <td>M</td>\n",
       "      <td>9/29/1990</td>\n",
       "    </tr>\n",
       "  </tbody>\n",
       "</table>\n",
       "</div>"
      ],
      "text/plain": [
       "      id             nome sexo    dt_nasc\n",
       "887  888   Melissa Castro    F  5/15/2002\n",
       "943  944      Igor Santos    M  2/15/1975\n",
       "623  624   Bianca Pereira    F   9/7/1952\n",
       "216  217  Rafaela Almeida    F  7/25/2003\n",
       "507  508       João Alves    M  9/29/1990"
      ]
     },
     "execution_count": 3,
     "metadata": {},
     "output_type": "execute_result"
    }
   ],
   "source": [
    "dfClientes.sample(5)"
   ]
  },
  {
   "cell_type": "code",
   "execution_count": 4,
   "id": "24afa0ed-56fc-4e21-9254-40802552c6ce",
   "metadata": {
    "collapsed": true,
    "jupyter": {
     "outputs_hidden": true
    }
   },
   "outputs": [
    {
     "data": {
      "text/plain": [
       "id         0\n",
       "nome       4\n",
       "sexo       4\n",
       "dt_nasc    4\n",
       "dtype: int64"
      ]
     },
     "execution_count": 4,
     "metadata": {},
     "output_type": "execute_result"
    }
   ],
   "source": [
    "dfClientes.isnull().sum()"
   ]
  },
  {
   "cell_type": "code",
   "execution_count": 5,
   "id": "a9cd14ec-8589-4a66-a386-3c7da8545f21",
   "metadata": {
    "collapsed": true,
    "jupyter": {
     "outputs_hidden": true
    },
    "tags": []
   },
   "outputs": [
    {
     "data": {
      "text/html": [
       "<div>\n",
       "<style scoped>\n",
       "    .dataframe tbody tr th:only-of-type {\n",
       "        vertical-align: middle;\n",
       "    }\n",
       "\n",
       "    .dataframe tbody tr th {\n",
       "        vertical-align: top;\n",
       "    }\n",
       "\n",
       "    .dataframe thead th {\n",
       "        text-align: right;\n",
       "    }\n",
       "</style>\n",
       "<table border=\"1\" class=\"dataframe\">\n",
       "  <thead>\n",
       "    <tr style=\"text-align: right;\">\n",
       "      <th></th>\n",
       "      <th>id</th>\n",
       "      <th>nome</th>\n",
       "      <th>sexo</th>\n",
       "      <th>dt_nasc</th>\n",
       "    </tr>\n",
       "  </thead>\n",
       "  <tbody>\n",
       "    <tr>\n",
       "      <th>263</th>\n",
       "      <td>264</td>\n",
       "      <td>NaN</td>\n",
       "      <td>F</td>\n",
       "      <td>7/29/1997</td>\n",
       "    </tr>\n",
       "    <tr>\n",
       "      <th>264</th>\n",
       "      <td>265</td>\n",
       "      <td>NaN</td>\n",
       "      <td>M</td>\n",
       "      <td>2/7/1979</td>\n",
       "    </tr>\n",
       "    <tr>\n",
       "      <th>268</th>\n",
       "      <td>269</td>\n",
       "      <td>NaN</td>\n",
       "      <td>F</td>\n",
       "      <td>NaN</td>\n",
       "    </tr>\n",
       "    <tr>\n",
       "      <th>269</th>\n",
       "      <td>270</td>\n",
       "      <td>NaN</td>\n",
       "      <td>M</td>\n",
       "      <td>NaN</td>\n",
       "    </tr>\n",
       "    <tr>\n",
       "      <th>276</th>\n",
       "      <td>277</td>\n",
       "      <td>Brenda Santos</td>\n",
       "      <td>F</td>\n",
       "      <td>NaN</td>\n",
       "    </tr>\n",
       "    <tr>\n",
       "      <th>282</th>\n",
       "      <td>283</td>\n",
       "      <td>Amanda Barros</td>\n",
       "      <td>F</td>\n",
       "      <td>NaN</td>\n",
       "    </tr>\n",
       "    <tr>\n",
       "      <th>287</th>\n",
       "      <td>288</td>\n",
       "      <td>Victor Ribeiro</td>\n",
       "      <td>NaN</td>\n",
       "      <td>12/17/1974</td>\n",
       "    </tr>\n",
       "    <tr>\n",
       "      <th>290</th>\n",
       "      <td>291</td>\n",
       "      <td>Clara Pinto</td>\n",
       "      <td>NaN</td>\n",
       "      <td>12/25/1980</td>\n",
       "    </tr>\n",
       "    <tr>\n",
       "      <th>294</th>\n",
       "      <td>295</td>\n",
       "      <td>Tiago Lima</td>\n",
       "      <td>NaN</td>\n",
       "      <td>7/26/1973</td>\n",
       "    </tr>\n",
       "    <tr>\n",
       "      <th>301</th>\n",
       "      <td>302</td>\n",
       "      <td>Guilherme Cardoso</td>\n",
       "      <td>NaN</td>\n",
       "      <td>3/9/1998</td>\n",
       "    </tr>\n",
       "  </tbody>\n",
       "</table>\n",
       "</div>"
      ],
      "text/plain": [
       "      id               nome sexo     dt_nasc\n",
       "263  264                NaN    F   7/29/1997\n",
       "264  265                NaN    M    2/7/1979\n",
       "268  269                NaN    F         NaN\n",
       "269  270                NaN    M         NaN\n",
       "276  277      Brenda Santos    F         NaN\n",
       "282  283      Amanda Barros    F         NaN\n",
       "287  288     Victor Ribeiro  NaN  12/17/1974\n",
       "290  291        Clara Pinto  NaN  12/25/1980\n",
       "294  295         Tiago Lima  NaN   7/26/1973\n",
       "301  302  Guilherme Cardoso  NaN    3/9/1998"
      ]
     },
     "execution_count": 5,
     "metadata": {},
     "output_type": "execute_result"
    }
   ],
   "source": [
    "dfClientes[dfClientes.isnull().T.any()]"
   ]
  },
  {
   "cell_type": "code",
   "execution_count": 6,
   "id": "e1b248e6-c076-4f8f-8248-44b1d536a1cd",
   "metadata": {
    "collapsed": true,
    "jupyter": {
     "outputs_hidden": true
    },
    "tags": []
   },
   "outputs": [
    {
     "data": {
      "text/plain": [
       "array(['F', 'M', nan], dtype=object)"
      ]
     },
     "execution_count": 6,
     "metadata": {},
     "output_type": "execute_result"
    }
   ],
   "source": [
    "dfClientes.sexo.unique()"
   ]
  },
  {
   "cell_type": "code",
   "execution_count": 7,
   "id": "3fcd4c27-fed3-4923-a8b1-3973fcadb028",
   "metadata": {
    "collapsed": true,
    "jupyter": {
     "outputs_hidden": true
    },
    "tags": []
   },
   "outputs": [
    {
     "data": {
      "text/html": [
       "<div>\n",
       "<style scoped>\n",
       "    .dataframe tbody tr th:only-of-type {\n",
       "        vertical-align: middle;\n",
       "    }\n",
       "\n",
       "    .dataframe tbody tr th {\n",
       "        vertical-align: top;\n",
       "    }\n",
       "\n",
       "    .dataframe thead th {\n",
       "        text-align: right;\n",
       "    }\n",
       "</style>\n",
       "<table border=\"1\" class=\"dataframe\">\n",
       "  <thead>\n",
       "    <tr style=\"text-align: right;\">\n",
       "      <th></th>\n",
       "      <th>id</th>\n",
       "      <th>produto</th>\n",
       "      <th>valor</th>\n",
       "    </tr>\n",
       "  </thead>\n",
       "  <tbody>\n",
       "    <tr>\n",
       "      <th>0</th>\n",
       "      <td>1</td>\n",
       "      <td>mouse</td>\n",
       "      <td>20.0</td>\n",
       "    </tr>\n",
       "    <tr>\n",
       "      <th>1</th>\n",
       "      <td>2</td>\n",
       "      <td>teclado</td>\n",
       "      <td>30.0</td>\n",
       "    </tr>\n",
       "    <tr>\n",
       "      <th>2</th>\n",
       "      <td>3</td>\n",
       "      <td>laptop básico</td>\n",
       "      <td>2300.0</td>\n",
       "    </tr>\n",
       "    <tr>\n",
       "      <th>3</th>\n",
       "      <td>4</td>\n",
       "      <td>laptop gamer</td>\n",
       "      <td>5300.0</td>\n",
       "    </tr>\n",
       "    <tr>\n",
       "      <th>4</th>\n",
       "      <td>5</td>\n",
       "      <td>monitor</td>\n",
       "      <td>1500.0</td>\n",
       "    </tr>\n",
       "    <tr>\n",
       "      <th>5</th>\n",
       "      <td>6</td>\n",
       "      <td>impressora</td>\n",
       "      <td>700.0</td>\n",
       "    </tr>\n",
       "    <tr>\n",
       "      <th>6</th>\n",
       "      <td>7</td>\n",
       "      <td>carregador</td>\n",
       "      <td>150.0</td>\n",
       "    </tr>\n",
       "    <tr>\n",
       "      <th>7</th>\n",
       "      <td>8</td>\n",
       "      <td>cadeira</td>\n",
       "      <td>540.0</td>\n",
       "    </tr>\n",
       "    <tr>\n",
       "      <th>8</th>\n",
       "      <td>9</td>\n",
       "      <td>mesa</td>\n",
       "      <td>860.0</td>\n",
       "    </tr>\n",
       "    <tr>\n",
       "      <th>9</th>\n",
       "      <td>10</td>\n",
       "      <td>xxx-231a</td>\n",
       "      <td>3211352.0</td>\n",
       "    </tr>\n",
       "  </tbody>\n",
       "</table>\n",
       "</div>"
      ],
      "text/plain": [
       "   id        produto      valor\n",
       "0   1          mouse       20.0\n",
       "1   2        teclado       30.0\n",
       "2   3  laptop básico     2300.0\n",
       "3   4   laptop gamer     5300.0\n",
       "4   5        monitor     1500.0\n",
       "5   6     impressora      700.0\n",
       "6   7     carregador      150.0\n",
       "7   8        cadeira      540.0\n",
       "8   9           mesa      860.0\n",
       "9  10       xxx-231a  3211352.0"
      ]
     },
     "execution_count": 7,
     "metadata": {},
     "output_type": "execute_result"
    }
   ],
   "source": [
    "dfProdutos"
   ]
  },
  {
   "cell_type": "code",
   "execution_count": 8,
   "id": "70d09fe7-ac30-46bb-8c21-fa95086b4f17",
   "metadata": {
    "collapsed": true,
    "jupyter": {
     "outputs_hidden": true
    },
    "tags": []
   },
   "outputs": [
    {
     "data": {
      "text/plain": [
       "<AxesSubplot:>"
      ]
     },
     "execution_count": 8,
     "metadata": {},
     "output_type": "execute_result"
    },
    {
     "data": {
      "image/png": "[encoded data removed]",
      "text/plain": [
       "<Figure size 432x288 with 1 Axes>"
      ]
     },
     "metadata": {
      "needs_background": "light"
     },
     "output_type": "display_data"
    }
   ],
   "source": [
    "dfProdutos.boxplot(column=['valor'])"
   ]
  },
  {
   "cell_type": "code",
   "execution_count": 9,
   "id": "de1f8433-d1aa-4c66-99a4-46a276610c15",
   "metadata": {
    "collapsed": true,
    "jupyter": {
     "outputs_hidden": true
    },
    "tags": []
   },
   "outputs": [
    {
     "data": {
      "text/html": [
       "<div>\n",
       "<style scoped>\n",
       "    .dataframe tbody tr th:only-of-type {\n",
       "        vertical-align: middle;\n",
       "    }\n",
       "\n",
       "    .dataframe tbody tr th {\n",
       "        vertical-align: top;\n",
       "    }\n",
       "\n",
       "    .dataframe thead th {\n",
       "        text-align: right;\n",
       "    }\n",
       "</style>\n",
       "<table border=\"1\" class=\"dataframe\">\n",
       "  <thead>\n",
       "    <tr style=\"text-align: right;\">\n",
       "      <th></th>\n",
       "      <th>id</th>\n",
       "      <th>produto</th>\n",
       "      <th>valor</th>\n",
       "    </tr>\n",
       "  </thead>\n",
       "  <tbody>\n",
       "    <tr>\n",
       "      <th>9</th>\n",
       "      <td>10</td>\n",
       "      <td>xxx-231a</td>\n",
       "      <td>3211352.0</td>\n",
       "    </tr>\n",
       "  </tbody>\n",
       "</table>\n",
       "</div>"
      ],
      "text/plain": [
       "   id   produto      valor\n",
       "9  10  xxx-231a  3211352.0"
      ]
     },
     "execution_count": 9,
     "metadata": {},
     "output_type": "execute_result"
    }
   ],
   "source": [
    "dfProdutos[dfProdutos.valor>3000000]"
   ]
  },
  {
   "cell_type": "code",
   "execution_count": 10,
   "id": "39121dc2-6db1-4c68-820d-5dd0ebb7336b",
   "metadata": {
    "collapsed": true,
    "jupyter": {
     "outputs_hidden": true
    },
    "tags": []
   },
   "outputs": [
    {
     "data": {
      "text/plain": [
       "<AxesSubplot:>"
      ]
     },
     "execution_count": 10,
     "metadata": {},
     "output_type": "execute_result"
    },
    {
     "data": {
      "image/png": "[encoded data removed]",
      "text/plain": [
       "<Figure size 432x288 with 1 Axes>"
      ]
     },
     "metadata": {
      "needs_background": "light"
     },
     "output_type": "display_data"
    }
   ],
   "source": [
    "dfProdutos[dfProdutos.valor < 3000000].boxplot(column=['valor'])"
   ]
  },
  {
   "cell_type": "code",
   "execution_count": 11,
   "id": "71842ee1-32a3-40ee-9f36-454cc44d0819",
   "metadata": {
    "collapsed": true,
    "jupyter": {
     "outputs_hidden": true
    },
    "tags": []
   },
   "outputs": [
    {
     "data": {
      "text/plain": [
       "id            182\n",
       "id_cliente    182\n",
       "id_loja       182\n",
       "id_produto    182\n",
       "dt_venda      182\n",
       "dtype: int64"
      ]
     },
     "execution_count": 11,
     "metadata": {},
     "output_type": "execute_result"
    }
   ],
   "source": [
    "dfVendas[dfVendas.id_produto == 10].count()"
   ]
  },
  {
   "cell_type": "code",
   "execution_count": 12,
   "id": "8cdc6140-8053-453f-a10b-ba0b00e2ae38",
   "metadata": {
    "collapsed": true,
    "jupyter": {
     "outputs_hidden": true
    },
    "tags": []
   },
   "outputs": [
    {
     "data": {
      "text/html": [
       "<div>\n",
       "<style scoped>\n",
       "    .dataframe tbody tr th:only-of-type {\n",
       "        vertical-align: middle;\n",
       "    }\n",
       "\n",
       "    .dataframe tbody tr th {\n",
       "        vertical-align: top;\n",
       "    }\n",
       "\n",
       "    .dataframe thead th {\n",
       "        text-align: right;\n",
       "    }\n",
       "</style>\n",
       "<table border=\"1\" class=\"dataframe\">\n",
       "  <thead>\n",
       "    <tr style=\"text-align: right;\">\n",
       "      <th></th>\n",
       "      <th>id</th>\n",
       "      <th>id_cliente</th>\n",
       "      <th>id_loja</th>\n",
       "      <th>id_produto</th>\n",
       "    </tr>\n",
       "  </thead>\n",
       "  <tbody>\n",
       "    <tr>\n",
       "      <th>count</th>\n",
       "      <td>3000.000000</td>\n",
       "      <td>3000.000000</td>\n",
       "      <td>3000.000000</td>\n",
       "      <td>3000.000000</td>\n",
       "    </tr>\n",
       "    <tr>\n",
       "      <th>mean</th>\n",
       "      <td>1500.500000</td>\n",
       "      <td>500.763667</td>\n",
       "      <td>4.538333</td>\n",
       "      <td>4.435000</td>\n",
       "    </tr>\n",
       "    <tr>\n",
       "      <th>std</th>\n",
       "      <td>866.169729</td>\n",
       "      <td>285.322282</td>\n",
       "      <td>2.922221</td>\n",
       "      <td>2.511018</td>\n",
       "    </tr>\n",
       "    <tr>\n",
       "      <th>min</th>\n",
       "      <td>1.000000</td>\n",
       "      <td>1.000000</td>\n",
       "      <td>1.000000</td>\n",
       "      <td>1.000000</td>\n",
       "    </tr>\n",
       "    <tr>\n",
       "      <th>25%</th>\n",
       "      <td>750.750000</td>\n",
       "      <td>254.750000</td>\n",
       "      <td>2.000000</td>\n",
       "      <td>3.000000</td>\n",
       "    </tr>\n",
       "    <tr>\n",
       "      <th>50%</th>\n",
       "      <td>1500.500000</td>\n",
       "      <td>503.500000</td>\n",
       "      <td>4.000000</td>\n",
       "      <td>3.000000</td>\n",
       "    </tr>\n",
       "    <tr>\n",
       "      <th>75%</th>\n",
       "      <td>2250.250000</td>\n",
       "      <td>742.000000</td>\n",
       "      <td>7.000000</td>\n",
       "      <td>6.000000</td>\n",
       "    </tr>\n",
       "    <tr>\n",
       "      <th>max</th>\n",
       "      <td>3000.000000</td>\n",
       "      <td>1000.000000</td>\n",
       "      <td>10.000000</td>\n",
       "      <td>10.000000</td>\n",
       "    </tr>\n",
       "  </tbody>\n",
       "</table>\n",
       "</div>"
      ],
      "text/plain": [
       "                id   id_cliente      id_loja   id_produto\n",
       "count  3000.000000  3000.000000  3000.000000  3000.000000\n",
       "mean   1500.500000   500.763667     4.538333     4.435000\n",
       "std     866.169729   285.322282     2.922221     2.511018\n",
       "min       1.000000     1.000000     1.000000     1.000000\n",
       "25%     750.750000   254.750000     2.000000     3.000000\n",
       "50%    1500.500000   503.500000     4.000000     3.000000\n",
       "75%    2250.250000   742.000000     7.000000     6.000000\n",
       "max    3000.000000  1000.000000    10.000000    10.000000"
      ]
     },
     "execution_count": 12,
     "metadata": {},
     "output_type": "execute_result"
    }
   ],
   "source": [
    "dfVendas.describe()"
   ]
  },
  {
   "cell_type": "code",
   "execution_count": 13,
   "id": "7ef80fa9-2970-4d55-a108-40e666b2ee8b",
   "metadata": {
    "collapsed": true,
    "jupyter": {
     "outputs_hidden": true
    },
    "tags": []
   },
   "outputs": [
    {
     "data": {
      "text/html": [
       "<div>\n",
       "<style scoped>\n",
       "    .dataframe tbody tr th:only-of-type {\n",
       "        vertical-align: middle;\n",
       "    }\n",
       "\n",
       "    .dataframe tbody tr th {\n",
       "        vertical-align: top;\n",
       "    }\n",
       "\n",
       "    .dataframe thead th {\n",
       "        text-align: right;\n",
       "    }\n",
       "</style>\n",
       "<table border=\"1\" class=\"dataframe\">\n",
       "  <thead>\n",
       "    <tr style=\"text-align: right;\">\n",
       "      <th></th>\n",
       "      <th>id</th>\n",
       "      <th>id_venda</th>\n",
       "    </tr>\n",
       "  </thead>\n",
       "  <tbody>\n",
       "    <tr>\n",
       "      <th>count</th>\n",
       "      <td>2072.000000</td>\n",
       "      <td>2072.000000</td>\n",
       "    </tr>\n",
       "    <tr>\n",
       "      <th>mean</th>\n",
       "      <td>1036.500000</td>\n",
       "      <td>1491.731660</td>\n",
       "    </tr>\n",
       "    <tr>\n",
       "      <th>std</th>\n",
       "      <td>598.279199</td>\n",
       "      <td>864.865583</td>\n",
       "    </tr>\n",
       "    <tr>\n",
       "      <th>min</th>\n",
       "      <td>1.000000</td>\n",
       "      <td>1.000000</td>\n",
       "    </tr>\n",
       "    <tr>\n",
       "      <th>25%</th>\n",
       "      <td>518.750000</td>\n",
       "      <td>746.250000</td>\n",
       "    </tr>\n",
       "    <tr>\n",
       "      <th>50%</th>\n",
       "      <td>1036.500000</td>\n",
       "      <td>1501.500000</td>\n",
       "    </tr>\n",
       "    <tr>\n",
       "      <th>75%</th>\n",
       "      <td>1554.250000</td>\n",
       "      <td>2220.500000</td>\n",
       "    </tr>\n",
       "    <tr>\n",
       "      <th>max</th>\n",
       "      <td>2072.000000</td>\n",
       "      <td>2997.000000</td>\n",
       "    </tr>\n",
       "  </tbody>\n",
       "</table>\n",
       "</div>"
      ],
      "text/plain": [
       "                id     id_venda\n",
       "count  2072.000000  2072.000000\n",
       "mean   1036.500000  1491.731660\n",
       "std     598.279199   864.865583\n",
       "min       1.000000     1.000000\n",
       "25%     518.750000   746.250000\n",
       "50%    1036.500000  1501.500000\n",
       "75%    1554.250000  2220.500000\n",
       "max    2072.000000  2997.000000"
      ]
     },
     "execution_count": 13,
     "metadata": {},
     "output_type": "execute_result"
    }
   ],
   "source": [
    "dfPagamentos.describe()"
   ]
  },
  {
   "cell_type": "markdown",
   "id": "979f9b0c-c096-4557-a886-761ab810c0a3",
   "metadata": {},
   "source": [
    "# Data Cleaning"
   ]
  },
  {
   "cell_type": "markdown",
   "id": "4f103fb7-f9ae-411e-be0d-cb7026947b2a",
   "metadata": {},
   "source": [
    "## Dados nulos"
   ]
  },
  {
   "cell_type": "code",
   "execution_count": 16,
   "id": "ff1bd408-62ef-4948-8a9c-58f9e047834d",
   "metadata": {
    "collapsed": true,
    "jupyter": {
     "outputs_hidden": true,
     "source_hidden": true
    },
    "tags": []
   },
   "outputs": [],
   "source": [
    "dfClientes.loc[dfClientes.nome.isnull(), 'nome'] = 'Sem nome'\n",
    "dfClientes.loc[dfClientes.sexo.isnull(), 'sexo'] = 'O'\n",
    "dfClientes.loc[dfClientes.dt_nasc.isnull(), 'dt_nasc'] = '1/1/2021'"
   ]
  },
  {
   "cell_type": "code",
   "execution_count": 19,
   "id": "9db7165b-30bf-416c-ba0c-9af017bc087d",
   "metadata": {
    "collapsed": true,
    "jupyter": {
     "outputs_hidden": true
    },
    "tags": []
   },
   "outputs": [
    {
     "data": {
      "text/html": [
       "<div>\n",
       "<style scoped>\n",
       "    .dataframe tbody tr th:only-of-type {\n",
       "        vertical-align: middle;\n",
       "    }\n",
       "\n",
       "    .dataframe tbody tr th {\n",
       "        vertical-align: top;\n",
       "    }\n",
       "\n",
       "    .dataframe thead th {\n",
       "        text-align: right;\n",
       "    }\n",
       "</style>\n",
       "<table border=\"1\" class=\"dataframe\">\n",
       "  <thead>\n",
       "    <tr style=\"text-align: right;\">\n",
       "      <th></th>\n",
       "      <th>id</th>\n",
       "      <th>nome</th>\n",
       "      <th>sexo</th>\n",
       "      <th>dt_nasc</th>\n",
       "    </tr>\n",
       "  </thead>\n",
       "  <tbody>\n",
       "    <tr>\n",
       "      <th>269</th>\n",
       "      <td>270</td>\n",
       "      <td>Sem nome</td>\n",
       "      <td>M</td>\n",
       "      <td>1/1/2021</td>\n",
       "    </tr>\n",
       "    <tr>\n",
       "      <th>287</th>\n",
       "      <td>288</td>\n",
       "      <td>Victor Ribeiro</td>\n",
       "      <td>O</td>\n",
       "      <td>12/17/1974</td>\n",
       "    </tr>\n",
       "  </tbody>\n",
       "</table>\n",
       "</div>"
      ],
      "text/plain": [
       "      id            nome sexo     dt_nasc\n",
       "269  270        Sem nome    M    1/1/2021\n",
       "287  288  Victor Ribeiro    O  12/17/1974"
      ]
     },
     "execution_count": 19,
     "metadata": {},
     "output_type": "execute_result"
    }
   ],
   "source": [
    "dfClientes.loc[[269, 287], :]"
   ]
  },
  {
   "cell_type": "code",
   "execution_count": 20,
   "id": "2888aa73-a647-41e7-ae53-7cbec66c1972",
   "metadata": {
    "collapsed": true,
    "jupyter": {
     "outputs_hidden": true
    },
    "tags": []
   },
   "outputs": [
    {
     "data": {
      "text/plain": [
       "id         0\n",
       "nome       0\n",
       "sexo       0\n",
       "dt_nasc    0\n",
       "dtype: int64"
      ]
     },
     "execution_count": 20,
     "metadata": {},
     "output_type": "execute_result"
    }
   ],
   "source": [
    "dfClientes.isnull().sum()"
   ]
  },
  {
   "cell_type": "markdown",
   "id": "8e3a9b25-7ec9-41b3-bec9-183eb2d00406",
   "metadata": {},
   "source": [
    "## Outliers"
   ]
  },
  {
   "cell_type": "code",
   "execution_count": 21,
   "id": "2abe66d9-8117-459b-b394-8b63c22c9e4b",
   "metadata": {
    "collapsed": true,
    "jupyter": {
     "outputs_hidden": true
    },
    "tags": []
   },
   "outputs": [
    {
     "data": {
      "text/html": [
       "<div>\n",
       "<style scoped>\n",
       "    .dataframe tbody tr th:only-of-type {\n",
       "        vertical-align: middle;\n",
       "    }\n",
       "\n",
       "    .dataframe tbody tr th {\n",
       "        vertical-align: top;\n",
       "    }\n",
       "\n",
       "    .dataframe thead th {\n",
       "        text-align: right;\n",
       "    }\n",
       "</style>\n",
       "<table border=\"1\" class=\"dataframe\">\n",
       "  <thead>\n",
       "    <tr style=\"text-align: right;\">\n",
       "      <th></th>\n",
       "      <th>id</th>\n",
       "      <th>produto</th>\n",
       "      <th>valor</th>\n",
       "    </tr>\n",
       "  </thead>\n",
       "  <tbody>\n",
       "    <tr>\n",
       "      <th>0</th>\n",
       "      <td>1</td>\n",
       "      <td>mouse</td>\n",
       "      <td>20.0000</td>\n",
       "    </tr>\n",
       "    <tr>\n",
       "      <th>1</th>\n",
       "      <td>2</td>\n",
       "      <td>teclado</td>\n",
       "      <td>30.0000</td>\n",
       "    </tr>\n",
       "    <tr>\n",
       "      <th>2</th>\n",
       "      <td>3</td>\n",
       "      <td>laptop básico</td>\n",
       "      <td>2300.0000</td>\n",
       "    </tr>\n",
       "    <tr>\n",
       "      <th>3</th>\n",
       "      <td>4</td>\n",
       "      <td>laptop gamer</td>\n",
       "      <td>5300.0000</td>\n",
       "    </tr>\n",
       "    <tr>\n",
       "      <th>4</th>\n",
       "      <td>5</td>\n",
       "      <td>monitor</td>\n",
       "      <td>1500.0000</td>\n",
       "    </tr>\n",
       "    <tr>\n",
       "      <th>5</th>\n",
       "      <td>6</td>\n",
       "      <td>impressora</td>\n",
       "      <td>700.0000</td>\n",
       "    </tr>\n",
       "    <tr>\n",
       "      <th>6</th>\n",
       "      <td>7</td>\n",
       "      <td>carregador</td>\n",
       "      <td>150.0000</td>\n",
       "    </tr>\n",
       "    <tr>\n",
       "      <th>7</th>\n",
       "      <td>8</td>\n",
       "      <td>cadeira</td>\n",
       "      <td>540.0000</td>\n",
       "    </tr>\n",
       "    <tr>\n",
       "      <th>8</th>\n",
       "      <td>9</td>\n",
       "      <td>mesa</td>\n",
       "      <td>860.0000</td>\n",
       "    </tr>\n",
       "    <tr>\n",
       "      <th>9</th>\n",
       "      <td>10</td>\n",
       "      <td>xxx-231a</td>\n",
       "      <td>321.1352</td>\n",
       "    </tr>\n",
       "  </tbody>\n",
       "</table>\n",
       "</div>"
      ],
      "text/plain": [
       "   id        produto      valor\n",
       "0   1          mouse    20.0000\n",
       "1   2        teclado    30.0000\n",
       "2   3  laptop básico  2300.0000\n",
       "3   4   laptop gamer  5300.0000\n",
       "4   5        monitor  1500.0000\n",
       "5   6     impressora   700.0000\n",
       "6   7     carregador   150.0000\n",
       "7   8        cadeira   540.0000\n",
       "8   9           mesa   860.0000\n",
       "9  10       xxx-231a   321.1352"
      ]
     },
     "execution_count": 21,
     "metadata": {},
     "output_type": "execute_result"
    }
   ],
   "source": [
    "dfProdutos.loc[9, 'valor'] = dfProdutos.valor[9]/10000\n",
    "dfProdutos"
   ]
  },
  {
   "cell_type": "code",
   "execution_count": 23,
   "id": "a4181e99-69be-4680-8d3c-02e23d90ab3b",
   "metadata": {
    "collapsed": true,
    "jupyter": {
     "outputs_hidden": true
    },
    "tags": []
   },
   "outputs": [
    {
     "data": {
      "text/plain": [
       "<AxesSubplot:>"
      ]
     },
     "execution_count": 23,
     "metadata": {},
     "output_type": "execute_result"
    },
    {
     "data": {
      "image/png": "[encoded data removed]",
      "text/plain": [
       "<Figure size 432x288 with 1 Axes>"
      ]
     },
     "metadata": {
      "needs_background": "light"
     },
     "output_type": "display_data"
    }
   ],
   "source": [
    "dfProdutos.boxplot(column=['valor'])"
   ]
  },
  {
   "cell_type": "markdown",
   "id": "9d8bd7c4-a5e3-434f-aeb6-5347b832cb45",
   "metadata": {},
   "source": [
    "## Consistencia"
   ]
  },
  {
   "cell_type": "code",
   "execution_count": 27,
   "id": "ea48cc8d-01bd-4c4c-a320-66075a39beb9",
   "metadata": {
    "collapsed": true,
    "jupyter": {
     "outputs_hidden": true
    },
    "tags": []
   },
   "outputs": [
    {
     "data": {
      "text/html": [
       "<div>\n",
       "<style scoped>\n",
       "    .dataframe tbody tr th:only-of-type {\n",
       "        vertical-align: middle;\n",
       "    }\n",
       "\n",
       "    .dataframe tbody tr th {\n",
       "        vertical-align: top;\n",
       "    }\n",
       "\n",
       "    .dataframe thead th {\n",
       "        text-align: right;\n",
       "    }\n",
       "</style>\n",
       "<table border=\"1\" class=\"dataframe\">\n",
       "  <thead>\n",
       "    <tr style=\"text-align: right;\">\n",
       "      <th></th>\n",
       "      <th>id</th>\n",
       "      <th>id_cliente</th>\n",
       "      <th>id_loja</th>\n",
       "      <th>id_produto</th>\n",
       "      <th>dt_venda</th>\n",
       "    </tr>\n",
       "  </thead>\n",
       "  <tbody>\n",
       "  </tbody>\n",
       "</table>\n",
       "</div>"
      ],
      "text/plain": [
       "Empty DataFrame\n",
       "Columns: [id, id_cliente, id_loja, id_produto, dt_venda]\n",
       "Index: []"
      ]
     },
     "execution_count": 27,
     "metadata": {},
     "output_type": "execute_result"
    }
   ],
   "source": [
    "dfVendas[~dfVendas.id_cliente.isin(dfClientes.id)]"
   ]
  },
  {
   "cell_type": "code",
   "execution_count": 29,
   "id": "56d425fe-93ab-4ffe-a50b-a5c1429cafd0",
   "metadata": {
    "collapsed": true,
    "jupyter": {
     "outputs_hidden": true
    },
    "tags": []
   },
   "outputs": [
    {
     "data": {
      "text/html": [
       "<div>\n",
       "<style scoped>\n",
       "    .dataframe tbody tr th:only-of-type {\n",
       "        vertical-align: middle;\n",
       "    }\n",
       "\n",
       "    .dataframe tbody tr th {\n",
       "        vertical-align: top;\n",
       "    }\n",
       "\n",
       "    .dataframe thead th {\n",
       "        text-align: right;\n",
       "    }\n",
       "</style>\n",
       "<table border=\"1\" class=\"dataframe\">\n",
       "  <thead>\n",
       "    <tr style=\"text-align: right;\">\n",
       "      <th></th>\n",
       "      <th>id</th>\n",
       "      <th>id_cliente</th>\n",
       "      <th>id_loja</th>\n",
       "      <th>id_produto</th>\n",
       "      <th>dt_venda</th>\n",
       "    </tr>\n",
       "  </thead>\n",
       "  <tbody>\n",
       "  </tbody>\n",
       "</table>\n",
       "</div>"
      ],
      "text/plain": [
       "Empty DataFrame\n",
       "Columns: [id, id_cliente, id_loja, id_produto, dt_venda]\n",
       "Index: []"
      ]
     },
     "execution_count": 29,
     "metadata": {},
     "output_type": "execute_result"
    }
   ],
   "source": [
    "dfVendas[~dfVendas.id_loja.isin(dfLojas.id)]"
   ]
  },
  {
   "cell_type": "code",
   "execution_count": 30,
   "id": "122479c1-e00d-4353-bcfd-6e7f4b8b5c20",
   "metadata": {
    "collapsed": true,
    "jupyter": {
     "outputs_hidden": true
    },
    "tags": []
   },
   "outputs": [
    {
     "data": {
      "text/html": [
       "<div>\n",
       "<style scoped>\n",
       "    .dataframe tbody tr th:only-of-type {\n",
       "        vertical-align: middle;\n",
       "    }\n",
       "\n",
       "    .dataframe tbody tr th {\n",
       "        vertical-align: top;\n",
       "    }\n",
       "\n",
       "    .dataframe thead th {\n",
       "        text-align: right;\n",
       "    }\n",
       "</style>\n",
       "<table border=\"1\" class=\"dataframe\">\n",
       "  <thead>\n",
       "    <tr style=\"text-align: right;\">\n",
       "      <th></th>\n",
       "      <th>id</th>\n",
       "      <th>id_cliente</th>\n",
       "      <th>id_loja</th>\n",
       "      <th>id_produto</th>\n",
       "      <th>dt_venda</th>\n",
       "    </tr>\n",
       "  </thead>\n",
       "  <tbody>\n",
       "  </tbody>\n",
       "</table>\n",
       "</div>"
      ],
      "text/plain": [
       "Empty DataFrame\n",
       "Columns: [id, id_cliente, id_loja, id_produto, dt_venda]\n",
       "Index: []"
      ]
     },
     "execution_count": 30,
     "metadata": {},
     "output_type": "execute_result"
    }
   ],
   "source": [
    "dfVendas[~dfVendas.id_produto.isin(dfProdutos.id)]"
   ]
  },
  {
   "cell_type": "code",
   "execution_count": 33,
   "id": "ae90446a-2087-4818-a156-87a817fccf44",
   "metadata": {
    "collapsed": true,
    "jupyter": {
     "outputs_hidden": true
    },
    "tags": []
   },
   "outputs": [
    {
     "data": {
      "text/html": [
       "<div>\n",
       "<style scoped>\n",
       "    .dataframe tbody tr th:only-of-type {\n",
       "        vertical-align: middle;\n",
       "    }\n",
       "\n",
       "    .dataframe tbody tr th {\n",
       "        vertical-align: top;\n",
       "    }\n",
       "\n",
       "    .dataframe thead th {\n",
       "        text-align: right;\n",
       "    }\n",
       "</style>\n",
       "<table border=\"1\" class=\"dataframe\">\n",
       "  <thead>\n",
       "    <tr style=\"text-align: right;\">\n",
       "      <th></th>\n",
       "      <th>id</th>\n",
       "      <th>id_venda</th>\n",
       "      <th>dt_pgto</th>\n",
       "    </tr>\n",
       "  </thead>\n",
       "  <tbody>\n",
       "  </tbody>\n",
       "</table>\n",
       "</div>"
      ],
      "text/plain": [
       "Empty DataFrame\n",
       "Columns: [id, id_venda, dt_pgto]\n",
       "Index: []"
      ]
     },
     "execution_count": 33,
     "metadata": {},
     "output_type": "execute_result"
    }
   ],
   "source": [
    "dfPagamentos[~dfPagamentos.id_venda.isin(dfVendas.id)]"
   ]
  },
  {
   "cell_type": "code",
   "execution_count": 35,
   "id": "a0c41b05-a25f-4ec3-8b0c-af323d99771f",
   "metadata": {
    "collapsed": true,
    "jupyter": {
     "outputs_hidden": true
    },
    "tags": []
   },
   "outputs": [
    {
     "data": {
      "text/plain": [
       "id            928\n",
       "id_cliente    928\n",
       "id_loja       928\n",
       "id_produto    928\n",
       "dt_venda      928\n",
       "dtype: int64"
      ]
     },
     "execution_count": 35,
     "metadata": {},
     "output_type": "execute_result"
    }
   ],
   "source": [
    "dfVendas[~dfVendas.id.isin(dfPagamentos.id_venda)].count()"
   ]
  },
  {
   "cell_type": "markdown",
   "id": "5580efa8-028c-49b8-a8f9-6479f9570275",
   "metadata": {},
   "source": [
    "## Dados duplicados"
   ]
  },
  {
   "cell_type": "code",
   "execution_count": 46,
   "id": "d1022273-32b7-4726-93f6-b74c2f63eeb0",
   "metadata": {
    "collapsed": true,
    "jupyter": {
     "outputs_hidden": true
    }
   },
   "outputs": [
    {
     "data": {
      "text/html": [
       "<div>\n",
       "<style scoped>\n",
       "    .dataframe tbody tr th:only-of-type {\n",
       "        vertical-align: middle;\n",
       "    }\n",
       "\n",
       "    .dataframe tbody tr th {\n",
       "        vertical-align: top;\n",
       "    }\n",
       "\n",
       "    .dataframe thead th {\n",
       "        text-align: right;\n",
       "    }\n",
       "</style>\n",
       "<table border=\"1\" class=\"dataframe\">\n",
       "  <thead>\n",
       "    <tr style=\"text-align: right;\">\n",
       "      <th></th>\n",
       "      <th>id</th>\n",
       "      <th>nome</th>\n",
       "      <th>sexo</th>\n",
       "      <th>dt_nasc</th>\n",
       "    </tr>\n",
       "  </thead>\n",
       "  <tbody>\n",
       "    <tr>\n",
       "      <th>79</th>\n",
       "      <td>80</td>\n",
       "      <td>Anna Melo</td>\n",
       "      <td>F</td>\n",
       "      <td>8/10/1999</td>\n",
       "    </tr>\n",
       "    <tr>\n",
       "      <th>96</th>\n",
       "      <td>97</td>\n",
       "      <td>Beatrice Goncalves</td>\n",
       "      <td>F</td>\n",
       "      <td>11/22/1964</td>\n",
       "    </tr>\n",
       "    <tr>\n",
       "      <th>138</th>\n",
       "      <td>139</td>\n",
       "      <td>Kauê Araujo</td>\n",
       "      <td>M</td>\n",
       "      <td>5/31/1974</td>\n",
       "    </tr>\n",
       "    <tr>\n",
       "      <th>139</th>\n",
       "      <td>140</td>\n",
       "      <td>Leonor Sousa</td>\n",
       "      <td>F</td>\n",
       "      <td>8/2/1981</td>\n",
       "    </tr>\n",
       "    <tr>\n",
       "      <th>154</th>\n",
       "      <td>155</td>\n",
       "      <td>Luis Rodrigues</td>\n",
       "      <td>M</td>\n",
       "      <td>7/3/1973</td>\n",
       "    </tr>\n",
       "    <tr>\n",
       "      <th>...</th>\n",
       "      <td>...</td>\n",
       "      <td>...</td>\n",
       "      <td>...</td>\n",
       "      <td>...</td>\n",
       "    </tr>\n",
       "    <tr>\n",
       "      <th>986</th>\n",
       "      <td>987</td>\n",
       "      <td>Beatriz Cardoso</td>\n",
       "      <td>F</td>\n",
       "      <td>7/17/1984</td>\n",
       "    </tr>\n",
       "    <tr>\n",
       "      <th>990</th>\n",
       "      <td>991</td>\n",
       "      <td>Diogo Melo</td>\n",
       "      <td>M</td>\n",
       "      <td>7/24/2001</td>\n",
       "    </tr>\n",
       "    <tr>\n",
       "      <th>993</th>\n",
       "      <td>994</td>\n",
       "      <td>Eduardo Costa</td>\n",
       "      <td>M</td>\n",
       "      <td>12/18/1963</td>\n",
       "    </tr>\n",
       "    <tr>\n",
       "      <th>996</th>\n",
       "      <td>997</td>\n",
       "      <td>Laura Oliveira</td>\n",
       "      <td>F</td>\n",
       "      <td>6/15/1979</td>\n",
       "    </tr>\n",
       "    <tr>\n",
       "      <th>999</th>\n",
       "      <td>1000</td>\n",
       "      <td>Gustavo Barbosa</td>\n",
       "      <td>M</td>\n",
       "      <td>12/30/1975</td>\n",
       "    </tr>\n",
       "  </tbody>\n",
       "</table>\n",
       "<p>109 rows × 4 columns</p>\n",
       "</div>"
      ],
      "text/plain": [
       "       id                nome sexo     dt_nasc\n",
       "79     80           Anna Melo    F   8/10/1999\n",
       "96     97  Beatrice Goncalves    F  11/22/1964\n",
       "138   139         Kauê Araujo    M   5/31/1974\n",
       "139   140        Leonor Sousa    F    8/2/1981\n",
       "154   155      Luis Rodrigues    M    7/3/1973\n",
       "..    ...                 ...  ...         ...\n",
       "986   987     Beatriz Cardoso    F   7/17/1984\n",
       "990   991          Diogo Melo    M   7/24/2001\n",
       "993   994       Eduardo Costa    M  12/18/1963\n",
       "996   997      Laura Oliveira    F   6/15/1979\n",
       "999  1000     Gustavo Barbosa    M  12/30/1975\n",
       "\n",
       "[109 rows x 4 columns]"
      ]
     },
     "execution_count": 46,
     "metadata": {},
     "output_type": "execute_result"
    }
   ],
   "source": [
    "dfClientes[dfClientes.nome.duplicated()]"
   ]
  },
  {
   "cell_type": "code",
   "execution_count": 47,
   "id": "3e4df2e3-3760-41b5-b5d7-f2396b515b65",
   "metadata": {
    "collapsed": true,
    "jupyter": {
     "outputs_hidden": true
    }
   },
   "outputs": [
    {
     "data": {
      "text/html": [
       "<div>\n",
       "<style scoped>\n",
       "    .dataframe tbody tr th:only-of-type {\n",
       "        vertical-align: middle;\n",
       "    }\n",
       "\n",
       "    .dataframe tbody tr th {\n",
       "        vertical-align: top;\n",
       "    }\n",
       "\n",
       "    .dataframe thead th {\n",
       "        text-align: right;\n",
       "    }\n",
       "</style>\n",
       "<table border=\"1\" class=\"dataframe\">\n",
       "  <thead>\n",
       "    <tr style=\"text-align: right;\">\n",
       "      <th></th>\n",
       "      <th>id</th>\n",
       "      <th>nome</th>\n",
       "      <th>sexo</th>\n",
       "      <th>dt_nasc</th>\n",
       "    </tr>\n",
       "  </thead>\n",
       "  <tbody>\n",
       "    <tr>\n",
       "      <th>66</th>\n",
       "      <td>67</td>\n",
       "      <td>Anna Melo</td>\n",
       "      <td>F</td>\n",
       "      <td>11/6/1995</td>\n",
       "    </tr>\n",
       "    <tr>\n",
       "      <th>79</th>\n",
       "      <td>80</td>\n",
       "      <td>Anna Melo</td>\n",
       "      <td>F</td>\n",
       "      <td>8/10/1999</td>\n",
       "    </tr>\n",
       "  </tbody>\n",
       "</table>\n",
       "</div>"
      ],
      "text/plain": [
       "    id       nome sexo    dt_nasc\n",
       "66  67  Anna Melo    F  11/6/1995\n",
       "79  80  Anna Melo    F  8/10/1999"
      ]
     },
     "execution_count": 47,
     "metadata": {},
     "output_type": "execute_result"
    }
   ],
   "source": [
    "dfClientes[dfClientes.nome == 'Anna Melo']"
   ]
  },
  {
   "cell_type": "code",
   "execution_count": 49,
   "id": "7fdb6edc-792e-45bc-830b-86730e49b9f6",
   "metadata": {
    "collapsed": true,
    "jupyter": {
     "outputs_hidden": true
    }
   },
   "outputs": [
    {
     "data": {
      "text/plain": [
       "0"
      ]
     },
     "execution_count": 49,
     "metadata": {},
     "output_type": "execute_result"
    }
   ],
   "source": [
    "dfClientes.drop('id', axis=1).duplicated().sum()"
   ]
  },
  {
   "cell_type": "code",
   "execution_count": 50,
   "id": "c628c60a-89ca-4ec1-be50-3ec800bdd57c",
   "metadata": {
    "collapsed": true,
    "jupyter": {
     "outputs_hidden": true
    }
   },
   "outputs": [
    {
     "data": {
      "text/plain": [
       "0"
      ]
     },
     "execution_count": 50,
     "metadata": {},
     "output_type": "execute_result"
    }
   ],
   "source": [
    "dfProdutos.produto.duplicated().sum()"
   ]
  },
  {
   "cell_type": "code",
   "execution_count": 51,
   "id": "40ba1046-d86e-4d41-b343-efa804adcf34",
   "metadata": {
    "collapsed": true,
    "jupyter": {
     "outputs_hidden": true
    }
   },
   "outputs": [
    {
     "data": {
      "text/plain": [
       "0"
      ]
     },
     "execution_count": 51,
     "metadata": {},
     "output_type": "execute_result"
    }
   ],
   "source": [
    "dfLojas.cidade.duplicated().sum()"
   ]
  },
  {
   "cell_type": "code",
   "execution_count": 55,
   "id": "b33f4883-710a-4cc6-9f94-c84ca1c2ef02",
   "metadata": {
    "collapsed": true,
    "jupyter": {
     "outputs_hidden": true
    }
   },
   "outputs": [
    {
     "data": {
      "text/html": [
       "<div>\n",
       "<style scoped>\n",
       "    .dataframe tbody tr th:only-of-type {\n",
       "        vertical-align: middle;\n",
       "    }\n",
       "\n",
       "    .dataframe tbody tr th {\n",
       "        vertical-align: top;\n",
       "    }\n",
       "\n",
       "    .dataframe thead th {\n",
       "        text-align: right;\n",
       "    }\n",
       "</style>\n",
       "<table border=\"1\" class=\"dataframe\">\n",
       "  <thead>\n",
       "    <tr style=\"text-align: right;\">\n",
       "      <th></th>\n",
       "      <th>id</th>\n",
       "      <th>id_cliente</th>\n",
       "      <th>id_loja</th>\n",
       "      <th>id_produto</th>\n",
       "      <th>dt_venda</th>\n",
       "    </tr>\n",
       "  </thead>\n",
       "  <tbody>\n",
       "    <tr>\n",
       "      <th>496</th>\n",
       "      <td>497</td>\n",
       "      <td>559</td>\n",
       "      <td>2</td>\n",
       "      <td>5</td>\n",
       "      <td>2018-06-22</td>\n",
       "    </tr>\n",
       "  </tbody>\n",
       "</table>\n",
       "</div>"
      ],
      "text/plain": [
       "      id  id_cliente  id_loja  id_produto   dt_venda\n",
       "496  497         559        2           5 2018-06-22"
      ]
     },
     "execution_count": 55,
     "metadata": {},
     "output_type": "execute_result"
    }
   ],
   "source": [
    "dfVendas[dfVendas.drop('id', axis=1).duplicated()]"
   ]
  },
  {
   "cell_type": "code",
   "execution_count": 56,
   "id": "bfc4e409-6ce6-4b74-acf2-6e684199168f",
   "metadata": {
    "collapsed": true,
    "jupyter": {
     "outputs_hidden": true
    }
   },
   "outputs": [
    {
     "data": {
      "text/html": [
       "<div>\n",
       "<style scoped>\n",
       "    .dataframe tbody tr th:only-of-type {\n",
       "        vertical-align: middle;\n",
       "    }\n",
       "\n",
       "    .dataframe tbody tr th {\n",
       "        vertical-align: top;\n",
       "    }\n",
       "\n",
       "    .dataframe thead th {\n",
       "        text-align: right;\n",
       "    }\n",
       "</style>\n",
       "<table border=\"1\" class=\"dataframe\">\n",
       "  <thead>\n",
       "    <tr style=\"text-align: right;\">\n",
       "      <th></th>\n",
       "      <th>id</th>\n",
       "      <th>id_cliente</th>\n",
       "      <th>id_loja</th>\n",
       "      <th>id_produto</th>\n",
       "      <th>dt_venda</th>\n",
       "    </tr>\n",
       "  </thead>\n",
       "  <tbody>\n",
       "    <tr>\n",
       "      <th>495</th>\n",
       "      <td>496</td>\n",
       "      <td>559</td>\n",
       "      <td>2</td>\n",
       "      <td>5</td>\n",
       "      <td>2018-06-22</td>\n",
       "    </tr>\n",
       "    <tr>\n",
       "      <th>496</th>\n",
       "      <td>497</td>\n",
       "      <td>559</td>\n",
       "      <td>2</td>\n",
       "      <td>5</td>\n",
       "      <td>2018-06-22</td>\n",
       "    </tr>\n",
       "  </tbody>\n",
       "</table>\n",
       "</div>"
      ],
      "text/plain": [
       "      id  id_cliente  id_loja  id_produto   dt_venda\n",
       "495  496         559        2           5 2018-06-22\n",
       "496  497         559        2           5 2018-06-22"
      ]
     },
     "execution_count": 56,
     "metadata": {},
     "output_type": "execute_result"
    }
   ],
   "source": [
    "dfVendas[(dfVendas.id_cliente == 559) & (dfVendas.id_loja ==2 ) & (dfVendas.id_produto == 5)]"
   ]
  },
  {
   "cell_type": "code",
   "execution_count": 57,
   "id": "e46992c4-5c95-453d-ac9d-d986a7c93553",
   "metadata": {
    "collapsed": true,
    "jupyter": {
     "outputs_hidden": true
    }
   },
   "outputs": [
    {
     "data": {
      "text/plain": [
       "0"
      ]
     },
     "execution_count": 57,
     "metadata": {},
     "output_type": "execute_result"
    }
   ],
   "source": [
    "dfPagamentos.drop('id', axis=1).duplicated().sum()"
   ]
  },
  {
   "cell_type": "markdown",
   "id": "c5a42258-c4de-4139-902b-bfa4bfee4913",
   "metadata": {},
   "source": [
    "## Formato de data"
   ]
  },
  {
   "cell_type": "code",
   "execution_count": 58,
   "id": "dffb1b32-a95d-43a7-b199-a17de416c741",
   "metadata": {
    "collapsed": true,
    "jupyter": {
     "outputs_hidden": true
    }
   },
   "outputs": [
    {
     "data": {
      "text/html": [
       "<div>\n",
       "<style scoped>\n",
       "    .dataframe tbody tr th:only-of-type {\n",
       "        vertical-align: middle;\n",
       "    }\n",
       "\n",
       "    .dataframe tbody tr th {\n",
       "        vertical-align: top;\n",
       "    }\n",
       "\n",
       "    .dataframe thead th {\n",
       "        text-align: right;\n",
       "    }\n",
       "</style>\n",
       "<table border=\"1\" class=\"dataframe\">\n",
       "  <thead>\n",
       "    <tr style=\"text-align: right;\">\n",
       "      <th></th>\n",
       "      <th>id</th>\n",
       "      <th>nome</th>\n",
       "      <th>sexo</th>\n",
       "      <th>dt_nasc</th>\n",
       "    </tr>\n",
       "  </thead>\n",
       "  <tbody>\n",
       "    <tr>\n",
       "      <th>0</th>\n",
       "      <td>1</td>\n",
       "      <td>Lavinia Sousa</td>\n",
       "      <td>F</td>\n",
       "      <td>1975-05-02</td>\n",
       "    </tr>\n",
       "    <tr>\n",
       "      <th>1</th>\n",
       "      <td>2</td>\n",
       "      <td>Caio Pereira</td>\n",
       "      <td>M</td>\n",
       "      <td>1978-04-16</td>\n",
       "    </tr>\n",
       "    <tr>\n",
       "      <th>2</th>\n",
       "      <td>3</td>\n",
       "      <td>Júlio Azevedo</td>\n",
       "      <td>M</td>\n",
       "      <td>1952-11-04</td>\n",
       "    </tr>\n",
       "    <tr>\n",
       "      <th>3</th>\n",
       "      <td>4</td>\n",
       "      <td>Sarah Goncalves</td>\n",
       "      <td>F</td>\n",
       "      <td>1937-02-24</td>\n",
       "    </tr>\n",
       "    <tr>\n",
       "      <th>4</th>\n",
       "      <td>5</td>\n",
       "      <td>Gabrielle Martins</td>\n",
       "      <td>F</td>\n",
       "      <td>1953-05-06</td>\n",
       "    </tr>\n",
       "    <tr>\n",
       "      <th>...</th>\n",
       "      <td>...</td>\n",
       "      <td>...</td>\n",
       "      <td>...</td>\n",
       "      <td>...</td>\n",
       "    </tr>\n",
       "    <tr>\n",
       "      <th>995</th>\n",
       "      <td>996</td>\n",
       "      <td>Ágatha Ribeiro</td>\n",
       "      <td>F</td>\n",
       "      <td>1946-02-08</td>\n",
       "    </tr>\n",
       "    <tr>\n",
       "      <th>996</th>\n",
       "      <td>997</td>\n",
       "      <td>Laura Oliveira</td>\n",
       "      <td>F</td>\n",
       "      <td>1979-06-15</td>\n",
       "    </tr>\n",
       "    <tr>\n",
       "      <th>997</th>\n",
       "      <td>998</td>\n",
       "      <td>Lara Oliveira</td>\n",
       "      <td>F</td>\n",
       "      <td>1946-03-15</td>\n",
       "    </tr>\n",
       "    <tr>\n",
       "      <th>998</th>\n",
       "      <td>999</td>\n",
       "      <td>Julian Cunha</td>\n",
       "      <td>M</td>\n",
       "      <td>1994-06-20</td>\n",
       "    </tr>\n",
       "    <tr>\n",
       "      <th>999</th>\n",
       "      <td>1000</td>\n",
       "      <td>Gustavo Barbosa</td>\n",
       "      <td>M</td>\n",
       "      <td>1975-12-30</td>\n",
       "    </tr>\n",
       "  </tbody>\n",
       "</table>\n",
       "<p>1000 rows × 4 columns</p>\n",
       "</div>"
      ],
      "text/plain": [
       "       id               nome sexo    dt_nasc\n",
       "0       1      Lavinia Sousa    F 1975-05-02\n",
       "1       2       Caio Pereira    M 1978-04-16\n",
       "2       3      Júlio Azevedo    M 1952-11-04\n",
       "3       4    Sarah Goncalves    F 1937-02-24\n",
       "4       5  Gabrielle Martins    F 1953-05-06\n",
       "..    ...                ...  ...        ...\n",
       "995   996     Ágatha Ribeiro    F 1946-02-08\n",
       "996   997     Laura Oliveira    F 1979-06-15\n",
       "997   998      Lara Oliveira    F 1946-03-15\n",
       "998   999       Julian Cunha    M 1994-06-20\n",
       "999  1000    Gustavo Barbosa    M 1975-12-30\n",
       "\n",
       "[1000 rows x 4 columns]"
      ]
     },
     "execution_count": 58,
     "metadata": {},
     "output_type": "execute_result"
    }
   ],
   "source": [
    "dfClientes.dt_nasc = pandas.to_datetime(dfClientes.dt_nasc, format='%m/%d/%Y')\n",
    "dfClientes"
   ]
  },
  {
   "cell_type": "markdown",
   "id": "deb7b7f2-0dca-4cca-9cd3-d47d88b1cb2f",
   "metadata": {},
   "source": [
    "## Indexes"
   ]
  },
  {
   "cell_type": "code",
   "execution_count": 59,
   "id": "ee6fb1dd-4d59-438d-b7ca-8a0e82aada7d",
   "metadata": {
    "collapsed": true,
    "jupyter": {
     "outputs_hidden": true
    }
   },
   "outputs": [
    {
     "data": {
      "text/html": [
       "<div>\n",
       "<style scoped>\n",
       "    .dataframe tbody tr th:only-of-type {\n",
       "        vertical-align: middle;\n",
       "    }\n",
       "\n",
       "    .dataframe tbody tr th {\n",
       "        vertical-align: top;\n",
       "    }\n",
       "\n",
       "    .dataframe thead th {\n",
       "        text-align: right;\n",
       "    }\n",
       "</style>\n",
       "<table border=\"1\" class=\"dataframe\">\n",
       "  <thead>\n",
       "    <tr style=\"text-align: right;\">\n",
       "      <th></th>\n",
       "      <th>nome</th>\n",
       "      <th>sexo</th>\n",
       "      <th>dt_nasc</th>\n",
       "    </tr>\n",
       "    <tr>\n",
       "      <th>id</th>\n",
       "      <th></th>\n",
       "      <th></th>\n",
       "      <th></th>\n",
       "    </tr>\n",
       "  </thead>\n",
       "  <tbody>\n",
       "    <tr>\n",
       "      <th>1</th>\n",
       "      <td>Lavinia Sousa</td>\n",
       "      <td>F</td>\n",
       "      <td>1975-05-02</td>\n",
       "    </tr>\n",
       "    <tr>\n",
       "      <th>2</th>\n",
       "      <td>Caio Pereira</td>\n",
       "      <td>M</td>\n",
       "      <td>1978-04-16</td>\n",
       "    </tr>\n",
       "    <tr>\n",
       "      <th>3</th>\n",
       "      <td>Júlio Azevedo</td>\n",
       "      <td>M</td>\n",
       "      <td>1952-11-04</td>\n",
       "    </tr>\n",
       "    <tr>\n",
       "      <th>4</th>\n",
       "      <td>Sarah Goncalves</td>\n",
       "      <td>F</td>\n",
       "      <td>1937-02-24</td>\n",
       "    </tr>\n",
       "    <tr>\n",
       "      <th>5</th>\n",
       "      <td>Gabrielle Martins</td>\n",
       "      <td>F</td>\n",
       "      <td>1953-05-06</td>\n",
       "    </tr>\n",
       "    <tr>\n",
       "      <th>...</th>\n",
       "      <td>...</td>\n",
       "      <td>...</td>\n",
       "      <td>...</td>\n",
       "    </tr>\n",
       "    <tr>\n",
       "      <th>996</th>\n",
       "      <td>Ágatha Ribeiro</td>\n",
       "      <td>F</td>\n",
       "      <td>1946-02-08</td>\n",
       "    </tr>\n",
       "    <tr>\n",
       "      <th>997</th>\n",
       "      <td>Laura Oliveira</td>\n",
       "      <td>F</td>\n",
       "      <td>1979-06-15</td>\n",
       "    </tr>\n",
       "    <tr>\n",
       "      <th>998</th>\n",
       "      <td>Lara Oliveira</td>\n",
       "      <td>F</td>\n",
       "      <td>1946-03-15</td>\n",
       "    </tr>\n",
       "    <tr>\n",
       "      <th>999</th>\n",
       "      <td>Julian Cunha</td>\n",
       "      <td>M</td>\n",
       "      <td>1994-06-20</td>\n",
       "    </tr>\n",
       "    <tr>\n",
       "      <th>1000</th>\n",
       "      <td>Gustavo Barbosa</td>\n",
       "      <td>M</td>\n",
       "      <td>1975-12-30</td>\n",
       "    </tr>\n",
       "  </tbody>\n",
       "</table>\n",
       "<p>1000 rows × 3 columns</p>\n",
       "</div>"
      ],
      "text/plain": [
       "                   nome sexo    dt_nasc\n",
       "id                                     \n",
       "1         Lavinia Sousa    F 1975-05-02\n",
       "2          Caio Pereira    M 1978-04-16\n",
       "3         Júlio Azevedo    M 1952-11-04\n",
       "4       Sarah Goncalves    F 1937-02-24\n",
       "5     Gabrielle Martins    F 1953-05-06\n",
       "...                 ...  ...        ...\n",
       "996      Ágatha Ribeiro    F 1946-02-08\n",
       "997      Laura Oliveira    F 1979-06-15\n",
       "998       Lara Oliveira    F 1946-03-15\n",
       "999        Julian Cunha    M 1994-06-20\n",
       "1000    Gustavo Barbosa    M 1975-12-30\n",
       "\n",
       "[1000 rows x 3 columns]"
      ]
     },
     "execution_count": 59,
     "metadata": {},
     "output_type": "execute_result"
    }
   ],
   "source": [
    "dfClientes = dfClientes.set_index('id')\n",
    "dfClientes"
   ]
  },
  {
   "cell_type": "code",
   "execution_count": 60,
   "id": "5a57257b-adfb-4006-9d78-607e541c0cf0",
   "metadata": {
    "collapsed": true,
    "jupyter": {
     "outputs_hidden": true
    }
   },
   "outputs": [],
   "source": [
    "dfLojas = dfLojas.set_index('id')\n",
    "dfProdutos = dfProdutos.set_index('id')\n",
    "dfVendas = dfVendas.set_index('id')\n",
    "dfPagamentos = dfPagamentos.set_index('id')"
   ]
  },
  {
   "cell_type": "code",
   "execution_count": 63,
   "id": "a8972daf-dedd-4de2-b4f3-9d6a087d15d6",
   "metadata": {
    "collapsed": true,
    "jupyter": {
     "outputs_hidden": true
    },
    "tags": []
   },
   "outputs": [
    {
     "data": {
      "text/html": [
       "<div>\n",
       "<style scoped>\n",
       "    .dataframe tbody tr th:only-of-type {\n",
       "        vertical-align: middle;\n",
       "    }\n",
       "\n",
       "    .dataframe tbody tr th {\n",
       "        vertical-align: top;\n",
       "    }\n",
       "\n",
       "    .dataframe thead th {\n",
       "        text-align: right;\n",
       "    }\n",
       "</style>\n",
       "<table border=\"1\" class=\"dataframe\">\n",
       "  <thead>\n",
       "    <tr style=\"text-align: right;\">\n",
       "      <th></th>\n",
       "      <th>produto</th>\n",
       "      <th>valor</th>\n",
       "    </tr>\n",
       "    <tr>\n",
       "      <th>id</th>\n",
       "      <th></th>\n",
       "      <th></th>\n",
       "    </tr>\n",
       "  </thead>\n",
       "  <tbody>\n",
       "    <tr>\n",
       "      <th>1</th>\n",
       "      <td>mouse</td>\n",
       "      <td>20.0000</td>\n",
       "    </tr>\n",
       "    <tr>\n",
       "      <th>2</th>\n",
       "      <td>teclado</td>\n",
       "      <td>30.0000</td>\n",
       "    </tr>\n",
       "    <tr>\n",
       "      <th>3</th>\n",
       "      <td>laptop básico</td>\n",
       "      <td>2300.0000</td>\n",
       "    </tr>\n",
       "    <tr>\n",
       "      <th>4</th>\n",
       "      <td>laptop gamer</td>\n",
       "      <td>5300.0000</td>\n",
       "    </tr>\n",
       "    <tr>\n",
       "      <th>5</th>\n",
       "      <td>monitor</td>\n",
       "      <td>1500.0000</td>\n",
       "    </tr>\n",
       "    <tr>\n",
       "      <th>6</th>\n",
       "      <td>impressora</td>\n",
       "      <td>700.0000</td>\n",
       "    </tr>\n",
       "    <tr>\n",
       "      <th>7</th>\n",
       "      <td>carregador</td>\n",
       "      <td>150.0000</td>\n",
       "    </tr>\n",
       "    <tr>\n",
       "      <th>8</th>\n",
       "      <td>cadeira</td>\n",
       "      <td>540.0000</td>\n",
       "    </tr>\n",
       "    <tr>\n",
       "      <th>9</th>\n",
       "      <td>mesa</td>\n",
       "      <td>860.0000</td>\n",
       "    </tr>\n",
       "    <tr>\n",
       "      <th>10</th>\n",
       "      <td>xxx-231a</td>\n",
       "      <td>321.1352</td>\n",
       "    </tr>\n",
       "  </tbody>\n",
       "</table>\n",
       "</div>"
      ],
      "text/plain": [
       "          produto      valor\n",
       "id                          \n",
       "1           mouse    20.0000\n",
       "2         teclado    30.0000\n",
       "3   laptop básico  2300.0000\n",
       "4    laptop gamer  5300.0000\n",
       "5         monitor  1500.0000\n",
       "6      impressora   700.0000\n",
       "7      carregador   150.0000\n",
       "8         cadeira   540.0000\n",
       "9            mesa   860.0000\n",
       "10       xxx-231a   321.1352"
      ]
     },
     "execution_count": 63,
     "metadata": {},
     "output_type": "execute_result"
    }
   ],
   "source": [
    "dfProdutos"
   ]
  },
  {
   "cell_type": "markdown",
   "id": "b4c588a7-5cb7-4b60-8371-dd49286d9f78",
   "metadata": {},
   "source": [
    "# Data Fusion"
   ]
  },
  {
   "cell_type": "code",
   "execution_count": 68,
   "id": "406f823c-ea8f-4ab1-bafc-8c8204e7430b",
   "metadata": {
    "collapsed": true,
    "jupyter": {
     "outputs_hidden": true
    }
   },
   "outputs": [],
   "source": [
    "df = dfVendas.join(dfClientes.add_prefix('cliente_'), on='id_cliente')\n",
    "df = df.join(dfLojas.add_prefix('loja_'), on='id_loja')\n",
    "df = df.join(dfProdutos.add_prefix('produto_'), on='id_produto')"
   ]
  },
  {
   "cell_type": "code",
   "execution_count": 69,
   "id": "d1e8f3c4-c4a9-4b75-8710-181642e3172c",
   "metadata": {
    "collapsed": true,
    "jupyter": {
     "outputs_hidden": true
    }
   },
   "outputs": [
    {
     "data": {
      "text/html": [
       "<div>\n",
       "<style scoped>\n",
       "    .dataframe tbody tr th:only-of-type {\n",
       "        vertical-align: middle;\n",
       "    }\n",
       "\n",
       "    .dataframe tbody tr th {\n",
       "        vertical-align: top;\n",
       "    }\n",
       "\n",
       "    .dataframe thead th {\n",
       "        text-align: right;\n",
       "    }\n",
       "</style>\n",
       "<table border=\"1\" class=\"dataframe\">\n",
       "  <thead>\n",
       "    <tr style=\"text-align: right;\">\n",
       "      <th></th>\n",
       "      <th>id_cliente</th>\n",
       "      <th>id_loja</th>\n",
       "      <th>id_produto</th>\n",
       "      <th>dt_venda</th>\n",
       "      <th>cliente_nome</th>\n",
       "      <th>cliente_sexo</th>\n",
       "      <th>cliente_dt_nasc</th>\n",
       "      <th>loja_cidade</th>\n",
       "      <th>produto_produto</th>\n",
       "      <th>produto_valor</th>\n",
       "    </tr>\n",
       "    <tr>\n",
       "      <th>id</th>\n",
       "      <th></th>\n",
       "      <th></th>\n",
       "      <th></th>\n",
       "      <th></th>\n",
       "      <th></th>\n",
       "      <th></th>\n",
       "      <th></th>\n",
       "      <th></th>\n",
       "      <th></th>\n",
       "      <th></th>\n",
       "    </tr>\n",
       "  </thead>\n",
       "  <tbody>\n",
       "    <tr>\n",
       "      <th>1</th>\n",
       "      <td>393</td>\n",
       "      <td>9</td>\n",
       "      <td>3</td>\n",
       "      <td>2018-01-04</td>\n",
       "      <td>Gustavo Silva</td>\n",
       "      <td>M</td>\n",
       "      <td>1950-01-04</td>\n",
       "      <td>Palmas</td>\n",
       "      <td>laptop básico</td>\n",
       "      <td>2300.0</td>\n",
       "    </tr>\n",
       "    <tr>\n",
       "      <th>2</th>\n",
       "      <td>417</td>\n",
       "      <td>9</td>\n",
       "      <td>3</td>\n",
       "      <td>2018-01-04</td>\n",
       "      <td>Leonor Almeida</td>\n",
       "      <td>F</td>\n",
       "      <td>1972-01-31</td>\n",
       "      <td>Palmas</td>\n",
       "      <td>laptop básico</td>\n",
       "      <td>2300.0</td>\n",
       "    </tr>\n",
       "    <tr>\n",
       "      <th>3</th>\n",
       "      <td>374</td>\n",
       "      <td>7</td>\n",
       "      <td>8</td>\n",
       "      <td>2018-01-04</td>\n",
       "      <td>André Alves</td>\n",
       "      <td>M</td>\n",
       "      <td>1962-08-03</td>\n",
       "      <td>Salvador</td>\n",
       "      <td>cadeira</td>\n",
       "      <td>540.0</td>\n",
       "    </tr>\n",
       "    <tr>\n",
       "      <th>4</th>\n",
       "      <td>59</td>\n",
       "      <td>4</td>\n",
       "      <td>3</td>\n",
       "      <td>2018-01-05</td>\n",
       "      <td>Rodrigo Ribeiro</td>\n",
       "      <td>M</td>\n",
       "      <td>1941-11-05</td>\n",
       "      <td>Belo Horizonte</td>\n",
       "      <td>laptop básico</td>\n",
       "      <td>2300.0</td>\n",
       "    </tr>\n",
       "    <tr>\n",
       "      <th>5</th>\n",
       "      <td>18</td>\n",
       "      <td>9</td>\n",
       "      <td>1</td>\n",
       "      <td>2018-01-05</td>\n",
       "      <td>Antônio Azevedo</td>\n",
       "      <td>M</td>\n",
       "      <td>1941-04-15</td>\n",
       "      <td>Palmas</td>\n",
       "      <td>mouse</td>\n",
       "      <td>20.0</td>\n",
       "    </tr>\n",
       "    <tr>\n",
       "      <th>...</th>\n",
       "      <td>...</td>\n",
       "      <td>...</td>\n",
       "      <td>...</td>\n",
       "      <td>...</td>\n",
       "      <td>...</td>\n",
       "      <td>...</td>\n",
       "      <td>...</td>\n",
       "      <td>...</td>\n",
       "      <td>...</td>\n",
       "      <td>...</td>\n",
       "    </tr>\n",
       "    <tr>\n",
       "      <th>2996</th>\n",
       "      <td>671</td>\n",
       "      <td>3</td>\n",
       "      <td>7</td>\n",
       "      <td>2020-09-27</td>\n",
       "      <td>Ana Goncalves</td>\n",
       "      <td>F</td>\n",
       "      <td>1999-10-31</td>\n",
       "      <td>Curitiba</td>\n",
       "      <td>carregador</td>\n",
       "      <td>150.0</td>\n",
       "    </tr>\n",
       "    <tr>\n",
       "      <th>2997</th>\n",
       "      <td>586</td>\n",
       "      <td>8</td>\n",
       "      <td>3</td>\n",
       "      <td>2020-09-27</td>\n",
       "      <td>Aline Pinto</td>\n",
       "      <td>F</td>\n",
       "      <td>1994-03-29</td>\n",
       "      <td>Brasília</td>\n",
       "      <td>laptop básico</td>\n",
       "      <td>2300.0</td>\n",
       "    </tr>\n",
       "    <tr>\n",
       "      <th>2998</th>\n",
       "      <td>731</td>\n",
       "      <td>2</td>\n",
       "      <td>4</td>\n",
       "      <td>2020-09-27</td>\n",
       "      <td>Otávio Silva</td>\n",
       "      <td>M</td>\n",
       "      <td>1986-05-04</td>\n",
       "      <td>Rio de Janeiro</td>\n",
       "      <td>laptop gamer</td>\n",
       "      <td>5300.0</td>\n",
       "    </tr>\n",
       "    <tr>\n",
       "      <th>2999</th>\n",
       "      <td>163</td>\n",
       "      <td>2</td>\n",
       "      <td>1</td>\n",
       "      <td>2020-09-27</td>\n",
       "      <td>Ana Pereira</td>\n",
       "      <td>F</td>\n",
       "      <td>1967-01-10</td>\n",
       "      <td>Rio de Janeiro</td>\n",
       "      <td>mouse</td>\n",
       "      <td>20.0</td>\n",
       "    </tr>\n",
       "    <tr>\n",
       "      <th>3000</th>\n",
       "      <td>770</td>\n",
       "      <td>2</td>\n",
       "      <td>2</td>\n",
       "      <td>2020-09-27</td>\n",
       "      <td>Beatrice Castro</td>\n",
       "      <td>F</td>\n",
       "      <td>1944-06-25</td>\n",
       "      <td>Rio de Janeiro</td>\n",
       "      <td>teclado</td>\n",
       "      <td>30.0</td>\n",
       "    </tr>\n",
       "  </tbody>\n",
       "</table>\n",
       "<p>3000 rows × 10 columns</p>\n",
       "</div>"
      ],
      "text/plain": [
       "      id_cliente  id_loja  id_produto   dt_venda     cliente_nome  \\\n",
       "id                                                                  \n",
       "1            393        9           3 2018-01-04    Gustavo Silva   \n",
       "2            417        9           3 2018-01-04   Leonor Almeida   \n",
       "3            374        7           8 2018-01-04      André Alves   \n",
       "4             59        4           3 2018-01-05  Rodrigo Ribeiro   \n",
       "5             18        9           1 2018-01-05  Antônio Azevedo   \n",
       "...          ...      ...         ...        ...              ...   \n",
       "2996         671        3           7 2020-09-27    Ana Goncalves   \n",
       "2997         586        8           3 2020-09-27      Aline Pinto   \n",
       "2998         731        2           4 2020-09-27     Otávio Silva   \n",
       "2999         163        2           1 2020-09-27      Ana Pereira   \n",
       "3000         770        2           2 2020-09-27  Beatrice Castro   \n",
       "\n",
       "     cliente_sexo cliente_dt_nasc     loja_cidade produto_produto  \\\n",
       "id                                                                  \n",
       "1               M      1950-01-04          Palmas   laptop básico   \n",
       "2               F      1972-01-31          Palmas   laptop básico   \n",
       "3               M      1962-08-03        Salvador         cadeira   \n",
       "4               M      1941-11-05  Belo Horizonte   laptop básico   \n",
       "5               M      1941-04-15          Palmas           mouse   \n",
       "...           ...             ...             ...             ...   \n",
       "2996            F      1999-10-31        Curitiba      carregador   \n",
       "2997            F      1994-03-29        Brasília   laptop básico   \n",
       "2998            M      1986-05-04  Rio de Janeiro    laptop gamer   \n",
       "2999            F      1967-01-10  Rio de Janeiro           mouse   \n",
       "3000            F      1944-06-25  Rio de Janeiro         teclado   \n",
       "\n",
       "      produto_valor  \n",
       "id                   \n",
       "1            2300.0  \n",
       "2            2300.0  \n",
       "3             540.0  \n",
       "4            2300.0  \n",
       "5              20.0  \n",
       "...             ...  \n",
       "2996          150.0  \n",
       "2997         2300.0  \n",
       "2998         5300.0  \n",
       "2999           20.0  \n",
       "3000           30.0  \n",
       "\n",
       "[3000 rows x 10 columns]"
      ]
     },
     "execution_count": 69,
     "metadata": {},
     "output_type": "execute_result"
    }
   ],
   "source": [
    "df"
   ]
  },
  {
   "cell_type": "code",
   "execution_count": 72,
   "id": "68065286-ea9c-4b47-9b78-e9fbab17faf6",
   "metadata": {
    "collapsed": true,
    "jupyter": {
     "outputs_hidden": true
    }
   },
   "outputs": [],
   "source": [
    "df = df.join(dfPagamentos.set_index('id_venda'))"
   ]
  },
  {
   "cell_type": "code",
   "execution_count": 73,
   "id": "f97fcf98-e830-493a-850c-ae9d7206d5a8",
   "metadata": {
    "collapsed": true,
    "jupyter": {
     "outputs_hidden": true
    }
   },
   "outputs": [
    {
     "data": {
      "text/html": [
       "<div>\n",
       "<style scoped>\n",
       "    .dataframe tbody tr th:only-of-type {\n",
       "        vertical-align: middle;\n",
       "    }\n",
       "\n",
       "    .dataframe tbody tr th {\n",
       "        vertical-align: top;\n",
       "    }\n",
       "\n",
       "    .dataframe thead th {\n",
       "        text-align: right;\n",
       "    }\n",
       "</style>\n",
       "<table border=\"1\" class=\"dataframe\">\n",
       "  <thead>\n",
       "    <tr style=\"text-align: right;\">\n",
       "      <th></th>\n",
       "      <th>id_cliente</th>\n",
       "      <th>id_loja</th>\n",
       "      <th>id_produto</th>\n",
       "      <th>dt_venda</th>\n",
       "      <th>cliente_nome</th>\n",
       "      <th>cliente_sexo</th>\n",
       "      <th>cliente_dt_nasc</th>\n",
       "      <th>loja_cidade</th>\n",
       "      <th>produto_produto</th>\n",
       "      <th>produto_valor</th>\n",
       "      <th>dt_pgto</th>\n",
       "    </tr>\n",
       "    <tr>\n",
       "      <th>id</th>\n",
       "      <th></th>\n",
       "      <th></th>\n",
       "      <th></th>\n",
       "      <th></th>\n",
       "      <th></th>\n",
       "      <th></th>\n",
       "      <th></th>\n",
       "      <th></th>\n",
       "      <th></th>\n",
       "      <th></th>\n",
       "      <th></th>\n",
       "    </tr>\n",
       "  </thead>\n",
       "  <tbody>\n",
       "    <tr>\n",
       "      <th>1</th>\n",
       "      <td>393</td>\n",
       "      <td>9</td>\n",
       "      <td>3</td>\n",
       "      <td>2018-01-04</td>\n",
       "      <td>Gustavo Silva</td>\n",
       "      <td>M</td>\n",
       "      <td>1950-01-04</td>\n",
       "      <td>Palmas</td>\n",
       "      <td>laptop básico</td>\n",
       "      <td>2300.0</td>\n",
       "      <td>2018-01-24</td>\n",
       "    </tr>\n",
       "    <tr>\n",
       "      <th>2</th>\n",
       "      <td>417</td>\n",
       "      <td>9</td>\n",
       "      <td>3</td>\n",
       "      <td>2018-01-04</td>\n",
       "      <td>Leonor Almeida</td>\n",
       "      <td>F</td>\n",
       "      <td>1972-01-31</td>\n",
       "      <td>Palmas</td>\n",
       "      <td>laptop básico</td>\n",
       "      <td>2300.0</td>\n",
       "      <td>2018-02-17</td>\n",
       "    </tr>\n",
       "    <tr>\n",
       "      <th>3</th>\n",
       "      <td>374</td>\n",
       "      <td>7</td>\n",
       "      <td>8</td>\n",
       "      <td>2018-01-04</td>\n",
       "      <td>André Alves</td>\n",
       "      <td>M</td>\n",
       "      <td>1962-08-03</td>\n",
       "      <td>Salvador</td>\n",
       "      <td>cadeira</td>\n",
       "      <td>540.0</td>\n",
       "      <td>2018-02-14</td>\n",
       "    </tr>\n",
       "    <tr>\n",
       "      <th>4</th>\n",
       "      <td>59</td>\n",
       "      <td>4</td>\n",
       "      <td>3</td>\n",
       "      <td>2018-01-05</td>\n",
       "      <td>Rodrigo Ribeiro</td>\n",
       "      <td>M</td>\n",
       "      <td>1941-11-05</td>\n",
       "      <td>Belo Horizonte</td>\n",
       "      <td>laptop básico</td>\n",
       "      <td>2300.0</td>\n",
       "      <td>NaT</td>\n",
       "    </tr>\n",
       "    <tr>\n",
       "      <th>5</th>\n",
       "      <td>18</td>\n",
       "      <td>9</td>\n",
       "      <td>1</td>\n",
       "      <td>2018-01-05</td>\n",
       "      <td>Antônio Azevedo</td>\n",
       "      <td>M</td>\n",
       "      <td>1941-04-15</td>\n",
       "      <td>Palmas</td>\n",
       "      <td>mouse</td>\n",
       "      <td>20.0</td>\n",
       "      <td>2018-01-23</td>\n",
       "    </tr>\n",
       "    <tr>\n",
       "      <th>...</th>\n",
       "      <td>...</td>\n",
       "      <td>...</td>\n",
       "      <td>...</td>\n",
       "      <td>...</td>\n",
       "      <td>...</td>\n",
       "      <td>...</td>\n",
       "      <td>...</td>\n",
       "      <td>...</td>\n",
       "      <td>...</td>\n",
       "      <td>...</td>\n",
       "      <td>...</td>\n",
       "    </tr>\n",
       "    <tr>\n",
       "      <th>2996</th>\n",
       "      <td>671</td>\n",
       "      <td>3</td>\n",
       "      <td>7</td>\n",
       "      <td>2020-09-27</td>\n",
       "      <td>Ana Goncalves</td>\n",
       "      <td>F</td>\n",
       "      <td>1999-10-31</td>\n",
       "      <td>Curitiba</td>\n",
       "      <td>carregador</td>\n",
       "      <td>150.0</td>\n",
       "      <td>2020-10-17</td>\n",
       "    </tr>\n",
       "    <tr>\n",
       "      <th>2997</th>\n",
       "      <td>586</td>\n",
       "      <td>8</td>\n",
       "      <td>3</td>\n",
       "      <td>2020-09-27</td>\n",
       "      <td>Aline Pinto</td>\n",
       "      <td>F</td>\n",
       "      <td>1994-03-29</td>\n",
       "      <td>Brasília</td>\n",
       "      <td>laptop básico</td>\n",
       "      <td>2300.0</td>\n",
       "      <td>2020-10-02</td>\n",
       "    </tr>\n",
       "    <tr>\n",
       "      <th>2998</th>\n",
       "      <td>731</td>\n",
       "      <td>2</td>\n",
       "      <td>4</td>\n",
       "      <td>2020-09-27</td>\n",
       "      <td>Otávio Silva</td>\n",
       "      <td>M</td>\n",
       "      <td>1986-05-04</td>\n",
       "      <td>Rio de Janeiro</td>\n",
       "      <td>laptop gamer</td>\n",
       "      <td>5300.0</td>\n",
       "      <td>NaT</td>\n",
       "    </tr>\n",
       "    <tr>\n",
       "      <th>2999</th>\n",
       "      <td>163</td>\n",
       "      <td>2</td>\n",
       "      <td>1</td>\n",
       "      <td>2020-09-27</td>\n",
       "      <td>Ana Pereira</td>\n",
       "      <td>F</td>\n",
       "      <td>1967-01-10</td>\n",
       "      <td>Rio de Janeiro</td>\n",
       "      <td>mouse</td>\n",
       "      <td>20.0</td>\n",
       "      <td>NaT</td>\n",
       "    </tr>\n",
       "    <tr>\n",
       "      <th>3000</th>\n",
       "      <td>770</td>\n",
       "      <td>2</td>\n",
       "      <td>2</td>\n",
       "      <td>2020-09-27</td>\n",
       "      <td>Beatrice Castro</td>\n",
       "      <td>F</td>\n",
       "      <td>1944-06-25</td>\n",
       "      <td>Rio de Janeiro</td>\n",
       "      <td>teclado</td>\n",
       "      <td>30.0</td>\n",
       "      <td>NaT</td>\n",
       "    </tr>\n",
       "  </tbody>\n",
       "</table>\n",
       "<p>3000 rows × 11 columns</p>\n",
       "</div>"
      ],
      "text/plain": [
       "      id_cliente  id_loja  id_produto   dt_venda     cliente_nome  \\\n",
       "id                                                                  \n",
       "1            393        9           3 2018-01-04    Gustavo Silva   \n",
       "2            417        9           3 2018-01-04   Leonor Almeida   \n",
       "3            374        7           8 2018-01-04      André Alves   \n",
       "4             59        4           3 2018-01-05  Rodrigo Ribeiro   \n",
       "5             18        9           1 2018-01-05  Antônio Azevedo   \n",
       "...          ...      ...         ...        ...              ...   \n",
       "2996         671        3           7 2020-09-27    Ana Goncalves   \n",
       "2997         586        8           3 2020-09-27      Aline Pinto   \n",
       "2998         731        2           4 2020-09-27     Otávio Silva   \n",
       "2999         163        2           1 2020-09-27      Ana Pereira   \n",
       "3000         770        2           2 2020-09-27  Beatrice Castro   \n",
       "\n",
       "     cliente_sexo cliente_dt_nasc     loja_cidade produto_produto  \\\n",
       "id                                                                  \n",
       "1               M      1950-01-04          Palmas   laptop básico   \n",
       "2               F      1972-01-31          Palmas   laptop básico   \n",
       "3               M      1962-08-03        Salvador         cadeira   \n",
       "4               M      1941-11-05  Belo Horizonte   laptop básico   \n",
       "5               M      1941-04-15          Palmas           mouse   \n",
       "...           ...             ...             ...             ...   \n",
       "2996            F      1999-10-31        Curitiba      carregador   \n",
       "2997            F      1994-03-29        Brasília   laptop básico   \n",
       "2998            M      1986-05-04  Rio de Janeiro    laptop gamer   \n",
       "2999            F      1967-01-10  Rio de Janeiro           mouse   \n",
       "3000            F      1944-06-25  Rio de Janeiro         teclado   \n",
       "\n",
       "      produto_valor    dt_pgto  \n",
       "id                              \n",
       "1            2300.0 2018-01-24  \n",
       "2            2300.0 2018-02-17  \n",
       "3             540.0 2018-02-14  \n",
       "4            2300.0        NaT  \n",
       "5              20.0 2018-01-23  \n",
       "...             ...        ...  \n",
       "2996          150.0 2020-10-17  \n",
       "2997         2300.0 2020-10-02  \n",
       "2998         5300.0        NaT  \n",
       "2999           20.0        NaT  \n",
       "3000           30.0        NaT  \n",
       "\n",
       "[3000 rows x 11 columns]"
      ]
     },
     "execution_count": 73,
     "metadata": {},
     "output_type": "execute_result"
    }
   ],
   "source": [
    "df"
   ]
  },
  {
   "cell_type": "markdown",
   "id": "740eca39-ec22-443b-9159-cbbd5a9a1c33",
   "metadata": {},
   "source": [
    "# Feature Engineering"
   ]
  },
  {
   "cell_type": "code",
   "execution_count": 76,
   "id": "8e4eabe7-d204-40f5-ac13-4d8f9a2cbbbb",
   "metadata": {
    "collapsed": true,
    "jupyter": {
     "outputs_hidden": true
    }
   },
   "outputs": [],
   "source": [
    "df['pg'] = 1\n",
    "df.loc[df.dt_pgto.isnull(), 'pg'] = 0"
   ]
  },
  {
   "cell_type": "code",
   "execution_count": 77,
   "id": "6a7f4f84-d7d6-4a6f-9d17-d08f8804a1f0",
   "metadata": {
    "collapsed": true,
    "jupyter": {
     "outputs_hidden": true
    }
   },
   "outputs": [
    {
     "data": {
      "text/html": [
       "<div>\n",
       "<style scoped>\n",
       "    .dataframe tbody tr th:only-of-type {\n",
       "        vertical-align: middle;\n",
       "    }\n",
       "\n",
       "    .dataframe tbody tr th {\n",
       "        vertical-align: top;\n",
       "    }\n",
       "\n",
       "    .dataframe thead th {\n",
       "        text-align: right;\n",
       "    }\n",
       "</style>\n",
       "<table border=\"1\" class=\"dataframe\">\n",
       "  <thead>\n",
       "    <tr style=\"text-align: right;\">\n",
       "      <th></th>\n",
       "      <th>id_cliente</th>\n",
       "      <th>id_loja</th>\n",
       "      <th>id_produto</th>\n",
       "      <th>dt_venda</th>\n",
       "      <th>cliente_nome</th>\n",
       "      <th>cliente_sexo</th>\n",
       "      <th>cliente_dt_nasc</th>\n",
       "      <th>loja_cidade</th>\n",
       "      <th>produto_produto</th>\n",
       "      <th>produto_valor</th>\n",
       "      <th>dt_pgto</th>\n",
       "      <th>pg</th>\n",
       "      <th>tempo_pg</th>\n",
       "    </tr>\n",
       "    <tr>\n",
       "      <th>id</th>\n",
       "      <th></th>\n",
       "      <th></th>\n",
       "      <th></th>\n",
       "      <th></th>\n",
       "      <th></th>\n",
       "      <th></th>\n",
       "      <th></th>\n",
       "      <th></th>\n",
       "      <th></th>\n",
       "      <th></th>\n",
       "      <th></th>\n",
       "      <th></th>\n",
       "      <th></th>\n",
       "    </tr>\n",
       "  </thead>\n",
       "  <tbody>\n",
       "    <tr>\n",
       "      <th>1</th>\n",
       "      <td>393</td>\n",
       "      <td>9</td>\n",
       "      <td>3</td>\n",
       "      <td>2018-01-04</td>\n",
       "      <td>Gustavo Silva</td>\n",
       "      <td>M</td>\n",
       "      <td>1950-01-04</td>\n",
       "      <td>Palmas</td>\n",
       "      <td>laptop básico</td>\n",
       "      <td>2300.0</td>\n",
       "      <td>2018-01-24</td>\n",
       "      <td>1</td>\n",
       "      <td>20.0</td>\n",
       "    </tr>\n",
       "    <tr>\n",
       "      <th>2</th>\n",
       "      <td>417</td>\n",
       "      <td>9</td>\n",
       "      <td>3</td>\n",
       "      <td>2018-01-04</td>\n",
       "      <td>Leonor Almeida</td>\n",
       "      <td>F</td>\n",
       "      <td>1972-01-31</td>\n",
       "      <td>Palmas</td>\n",
       "      <td>laptop básico</td>\n",
       "      <td>2300.0</td>\n",
       "      <td>2018-02-17</td>\n",
       "      <td>1</td>\n",
       "      <td>44.0</td>\n",
       "    </tr>\n",
       "    <tr>\n",
       "      <th>3</th>\n",
       "      <td>374</td>\n",
       "      <td>7</td>\n",
       "      <td>8</td>\n",
       "      <td>2018-01-04</td>\n",
       "      <td>André Alves</td>\n",
       "      <td>M</td>\n",
       "      <td>1962-08-03</td>\n",
       "      <td>Salvador</td>\n",
       "      <td>cadeira</td>\n",
       "      <td>540.0</td>\n",
       "      <td>2018-02-14</td>\n",
       "      <td>1</td>\n",
       "      <td>41.0</td>\n",
       "    </tr>\n",
       "    <tr>\n",
       "      <th>4</th>\n",
       "      <td>59</td>\n",
       "      <td>4</td>\n",
       "      <td>3</td>\n",
       "      <td>2018-01-05</td>\n",
       "      <td>Rodrigo Ribeiro</td>\n",
       "      <td>M</td>\n",
       "      <td>1941-11-05</td>\n",
       "      <td>Belo Horizonte</td>\n",
       "      <td>laptop básico</td>\n",
       "      <td>2300.0</td>\n",
       "      <td>NaT</td>\n",
       "      <td>0</td>\n",
       "      <td>NaN</td>\n",
       "    </tr>\n",
       "    <tr>\n",
       "      <th>5</th>\n",
       "      <td>18</td>\n",
       "      <td>9</td>\n",
       "      <td>1</td>\n",
       "      <td>2018-01-05</td>\n",
       "      <td>Antônio Azevedo</td>\n",
       "      <td>M</td>\n",
       "      <td>1941-04-15</td>\n",
       "      <td>Palmas</td>\n",
       "      <td>mouse</td>\n",
       "      <td>20.0</td>\n",
       "      <td>2018-01-23</td>\n",
       "      <td>1</td>\n",
       "      <td>18.0</td>\n",
       "    </tr>\n",
       "    <tr>\n",
       "      <th>...</th>\n",
       "      <td>...</td>\n",
       "      <td>...</td>\n",
       "      <td>...</td>\n",
       "      <td>...</td>\n",
       "      <td>...</td>\n",
       "      <td>...</td>\n",
       "      <td>...</td>\n",
       "      <td>...</td>\n",
       "      <td>...</td>\n",
       "      <td>...</td>\n",
       "      <td>...</td>\n",
       "      <td>...</td>\n",
       "      <td>...</td>\n",
       "    </tr>\n",
       "    <tr>\n",
       "      <th>2996</th>\n",
       "      <td>671</td>\n",
       "      <td>3</td>\n",
       "      <td>7</td>\n",
       "      <td>2020-09-27</td>\n",
       "      <td>Ana Goncalves</td>\n",
       "      <td>F</td>\n",
       "      <td>1999-10-31</td>\n",
       "      <td>Curitiba</td>\n",
       "      <td>carregador</td>\n",
       "      <td>150.0</td>\n",
       "      <td>2020-10-17</td>\n",
       "      <td>1</td>\n",
       "      <td>20.0</td>\n",
       "    </tr>\n",
       "    <tr>\n",
       "      <th>2997</th>\n",
       "      <td>586</td>\n",
       "      <td>8</td>\n",
       "      <td>3</td>\n",
       "      <td>2020-09-27</td>\n",
       "      <td>Aline Pinto</td>\n",
       "      <td>F</td>\n",
       "      <td>1994-03-29</td>\n",
       "      <td>Brasília</td>\n",
       "      <td>laptop básico</td>\n",
       "      <td>2300.0</td>\n",
       "      <td>2020-10-02</td>\n",
       "      <td>1</td>\n",
       "      <td>5.0</td>\n",
       "    </tr>\n",
       "    <tr>\n",
       "      <th>2998</th>\n",
       "      <td>731</td>\n",
       "      <td>2</td>\n",
       "      <td>4</td>\n",
       "      <td>2020-09-27</td>\n",
       "      <td>Otávio Silva</td>\n",
       "      <td>M</td>\n",
       "      <td>1986-05-04</td>\n",
       "      <td>Rio de Janeiro</td>\n",
       "      <td>laptop gamer</td>\n",
       "      <td>5300.0</td>\n",
       "      <td>NaT</td>\n",
       "      <td>0</td>\n",
       "      <td>NaN</td>\n",
       "    </tr>\n",
       "    <tr>\n",
       "      <th>2999</th>\n",
       "      <td>163</td>\n",
       "      <td>2</td>\n",
       "      <td>1</td>\n",
       "      <td>2020-09-27</td>\n",
       "      <td>Ana Pereira</td>\n",
       "      <td>F</td>\n",
       "      <td>1967-01-10</td>\n",
       "      <td>Rio de Janeiro</td>\n",
       "      <td>mouse</td>\n",
       "      <td>20.0</td>\n",
       "      <td>NaT</td>\n",
       "      <td>0</td>\n",
       "      <td>NaN</td>\n",
       "    </tr>\n",
       "    <tr>\n",
       "      <th>3000</th>\n",
       "      <td>770</td>\n",
       "      <td>2</td>\n",
       "      <td>2</td>\n",
       "      <td>2020-09-27</td>\n",
       "      <td>Beatrice Castro</td>\n",
       "      <td>F</td>\n",
       "      <td>1944-06-25</td>\n",
       "      <td>Rio de Janeiro</td>\n",
       "      <td>teclado</td>\n",
       "      <td>30.0</td>\n",
       "      <td>NaT</td>\n",
       "      <td>0</td>\n",
       "      <td>NaN</td>\n",
       "    </tr>\n",
       "  </tbody>\n",
       "</table>\n",
       "<p>3000 rows × 13 columns</p>\n",
       "</div>"
      ],
      "text/plain": [
       "      id_cliente  id_loja  id_produto   dt_venda     cliente_nome  \\\n",
       "id                                                                  \n",
       "1            393        9           3 2018-01-04    Gustavo Silva   \n",
       "2            417        9           3 2018-01-04   Leonor Almeida   \n",
       "3            374        7           8 2018-01-04      André Alves   \n",
       "4             59        4           3 2018-01-05  Rodrigo Ribeiro   \n",
       "5             18        9           1 2018-01-05  Antônio Azevedo   \n",
       "...          ...      ...         ...        ...              ...   \n",
       "2996         671        3           7 2020-09-27    Ana Goncalves   \n",
       "2997         586        8           3 2020-09-27      Aline Pinto   \n",
       "2998         731        2           4 2020-09-27     Otávio Silva   \n",
       "2999         163        2           1 2020-09-27      Ana Pereira   \n",
       "3000         770        2           2 2020-09-27  Beatrice Castro   \n",
       "\n",
       "     cliente_sexo cliente_dt_nasc     loja_cidade produto_produto  \\\n",
       "id                                                                  \n",
       "1               M      1950-01-04          Palmas   laptop básico   \n",
       "2               F      1972-01-31          Palmas   laptop básico   \n",
       "3               M      1962-08-03        Salvador         cadeira   \n",
       "4               M      1941-11-05  Belo Horizonte   laptop básico   \n",
       "5               M      1941-04-15          Palmas           mouse   \n",
       "...           ...             ...             ...             ...   \n",
       "2996            F      1999-10-31        Curitiba      carregador   \n",
       "2997            F      1994-03-29        Brasília   laptop básico   \n",
       "2998            M      1986-05-04  Rio de Janeiro    laptop gamer   \n",
       "2999            F      1967-01-10  Rio de Janeiro           mouse   \n",
       "3000            F      1944-06-25  Rio de Janeiro         teclado   \n",
       "\n",
       "      produto_valor    dt_pgto  pg  tempo_pg  \n",
       "id                                            \n",
       "1            2300.0 2018-01-24   1      20.0  \n",
       "2            2300.0 2018-02-17   1      44.0  \n",
       "3             540.0 2018-02-14   1      41.0  \n",
       "4            2300.0        NaT   0       NaN  \n",
       "5              20.0 2018-01-23   1      18.0  \n",
       "...             ...        ...  ..       ...  \n",
       "2996          150.0 2020-10-17   1      20.0  \n",
       "2997         2300.0 2020-10-02   1       5.0  \n",
       "2998         5300.0        NaT   0       NaN  \n",
       "2999           20.0        NaT   0       NaN  \n",
       "3000           30.0        NaT   0       NaN  \n",
       "\n",
       "[3000 rows x 13 columns]"
      ]
     },
     "execution_count": 77,
     "metadata": {},
     "output_type": "execute_result"
    }
   ],
   "source": [
    "df['tempo_pg'] = (df.dt_pgto - df.dt_venda).dt.days\n",
    "df"
   ]
  },
  {
   "cell_type": "code",
   "execution_count": 81,
   "id": "2798ce36-81c6-4236-b7ff-4c83e89c1134",
   "metadata": {
    "collapsed": true,
    "jupyter": {
     "outputs_hidden": true
    },
    "tags": []
   },
   "outputs": [
    {
     "data": {
      "text/html": [
       "<div>\n",
       "<style scoped>\n",
       "    .dataframe tbody tr th:only-of-type {\n",
       "        vertical-align: middle;\n",
       "    }\n",
       "\n",
       "    .dataframe tbody tr th {\n",
       "        vertical-align: top;\n",
       "    }\n",
       "\n",
       "    .dataframe thead th {\n",
       "        text-align: right;\n",
       "    }\n",
       "</style>\n",
       "<table border=\"1\" class=\"dataframe\">\n",
       "  <thead>\n",
       "    <tr style=\"text-align: right;\">\n",
       "      <th></th>\n",
       "      <th>id_cliente</th>\n",
       "      <th>id_loja</th>\n",
       "      <th>id_produto</th>\n",
       "      <th>dt_venda</th>\n",
       "      <th>cliente_nome</th>\n",
       "      <th>cliente_sexo</th>\n",
       "      <th>cliente_dt_nasc</th>\n",
       "      <th>loja_cidade</th>\n",
       "      <th>produto_produto</th>\n",
       "      <th>produto_valor</th>\n",
       "      <th>dt_pgto</th>\n",
       "      <th>pg</th>\n",
       "      <th>tempo_pg</th>\n",
       "      <th>cliente_idade</th>\n",
       "    </tr>\n",
       "    <tr>\n",
       "      <th>id</th>\n",
       "      <th></th>\n",
       "      <th></th>\n",
       "      <th></th>\n",
       "      <th></th>\n",
       "      <th></th>\n",
       "      <th></th>\n",
       "      <th></th>\n",
       "      <th></th>\n",
       "      <th></th>\n",
       "      <th></th>\n",
       "      <th></th>\n",
       "      <th></th>\n",
       "      <th></th>\n",
       "      <th></th>\n",
       "    </tr>\n",
       "  </thead>\n",
       "  <tbody>\n",
       "    <tr>\n",
       "      <th>1</th>\n",
       "      <td>393</td>\n",
       "      <td>9</td>\n",
       "      <td>3</td>\n",
       "      <td>2018-01-04</td>\n",
       "      <td>Gustavo Silva</td>\n",
       "      <td>M</td>\n",
       "      <td>1950-01-04</td>\n",
       "      <td>Palmas</td>\n",
       "      <td>laptop básico</td>\n",
       "      <td>2300.0</td>\n",
       "      <td>2018-01-24</td>\n",
       "      <td>1</td>\n",
       "      <td>20.0</td>\n",
       "      <td>71.0</td>\n",
       "    </tr>\n",
       "    <tr>\n",
       "      <th>2</th>\n",
       "      <td>417</td>\n",
       "      <td>9</td>\n",
       "      <td>3</td>\n",
       "      <td>2018-01-04</td>\n",
       "      <td>Leonor Almeida</td>\n",
       "      <td>F</td>\n",
       "      <td>1972-01-31</td>\n",
       "      <td>Palmas</td>\n",
       "      <td>laptop básico</td>\n",
       "      <td>2300.0</td>\n",
       "      <td>2018-02-17</td>\n",
       "      <td>1</td>\n",
       "      <td>44.0</td>\n",
       "      <td>49.0</td>\n",
       "    </tr>\n",
       "    <tr>\n",
       "      <th>3</th>\n",
       "      <td>374</td>\n",
       "      <td>7</td>\n",
       "      <td>8</td>\n",
       "      <td>2018-01-04</td>\n",
       "      <td>André Alves</td>\n",
       "      <td>M</td>\n",
       "      <td>1962-08-03</td>\n",
       "      <td>Salvador</td>\n",
       "      <td>cadeira</td>\n",
       "      <td>540.0</td>\n",
       "      <td>2018-02-14</td>\n",
       "      <td>1</td>\n",
       "      <td>41.0</td>\n",
       "      <td>58.0</td>\n",
       "    </tr>\n",
       "    <tr>\n",
       "      <th>4</th>\n",
       "      <td>59</td>\n",
       "      <td>4</td>\n",
       "      <td>3</td>\n",
       "      <td>2018-01-05</td>\n",
       "      <td>Rodrigo Ribeiro</td>\n",
       "      <td>M</td>\n",
       "      <td>1941-11-05</td>\n",
       "      <td>Belo Horizonte</td>\n",
       "      <td>laptop básico</td>\n",
       "      <td>2300.0</td>\n",
       "      <td>NaT</td>\n",
       "      <td>0</td>\n",
       "      <td>NaN</td>\n",
       "      <td>79.0</td>\n",
       "    </tr>\n",
       "    <tr>\n",
       "      <th>5</th>\n",
       "      <td>18</td>\n",
       "      <td>9</td>\n",
       "      <td>1</td>\n",
       "      <td>2018-01-05</td>\n",
       "      <td>Antônio Azevedo</td>\n",
       "      <td>M</td>\n",
       "      <td>1941-04-15</td>\n",
       "      <td>Palmas</td>\n",
       "      <td>mouse</td>\n",
       "      <td>20.0</td>\n",
       "      <td>2018-01-23</td>\n",
       "      <td>1</td>\n",
       "      <td>18.0</td>\n",
       "      <td>80.0</td>\n",
       "    </tr>\n",
       "    <tr>\n",
       "      <th>...</th>\n",
       "      <td>...</td>\n",
       "      <td>...</td>\n",
       "      <td>...</td>\n",
       "      <td>...</td>\n",
       "      <td>...</td>\n",
       "      <td>...</td>\n",
       "      <td>...</td>\n",
       "      <td>...</td>\n",
       "      <td>...</td>\n",
       "      <td>...</td>\n",
       "      <td>...</td>\n",
       "      <td>...</td>\n",
       "      <td>...</td>\n",
       "      <td>...</td>\n",
       "    </tr>\n",
       "    <tr>\n",
       "      <th>2996</th>\n",
       "      <td>671</td>\n",
       "      <td>3</td>\n",
       "      <td>7</td>\n",
       "      <td>2020-09-27</td>\n",
       "      <td>Ana Goncalves</td>\n",
       "      <td>F</td>\n",
       "      <td>1999-10-31</td>\n",
       "      <td>Curitiba</td>\n",
       "      <td>carregador</td>\n",
       "      <td>150.0</td>\n",
       "      <td>2020-10-17</td>\n",
       "      <td>1</td>\n",
       "      <td>20.0</td>\n",
       "      <td>21.0</td>\n",
       "    </tr>\n",
       "    <tr>\n",
       "      <th>2997</th>\n",
       "      <td>586</td>\n",
       "      <td>8</td>\n",
       "      <td>3</td>\n",
       "      <td>2020-09-27</td>\n",
       "      <td>Aline Pinto</td>\n",
       "      <td>F</td>\n",
       "      <td>1994-03-29</td>\n",
       "      <td>Brasília</td>\n",
       "      <td>laptop básico</td>\n",
       "      <td>2300.0</td>\n",
       "      <td>2020-10-02</td>\n",
       "      <td>1</td>\n",
       "      <td>5.0</td>\n",
       "      <td>27.0</td>\n",
       "    </tr>\n",
       "    <tr>\n",
       "      <th>2998</th>\n",
       "      <td>731</td>\n",
       "      <td>2</td>\n",
       "      <td>4</td>\n",
       "      <td>2020-09-27</td>\n",
       "      <td>Otávio Silva</td>\n",
       "      <td>M</td>\n",
       "      <td>1986-05-04</td>\n",
       "      <td>Rio de Janeiro</td>\n",
       "      <td>laptop gamer</td>\n",
       "      <td>5300.0</td>\n",
       "      <td>NaT</td>\n",
       "      <td>0</td>\n",
       "      <td>NaN</td>\n",
       "      <td>34.0</td>\n",
       "    </tr>\n",
       "    <tr>\n",
       "      <th>2999</th>\n",
       "      <td>163</td>\n",
       "      <td>2</td>\n",
       "      <td>1</td>\n",
       "      <td>2020-09-27</td>\n",
       "      <td>Ana Pereira</td>\n",
       "      <td>F</td>\n",
       "      <td>1967-01-10</td>\n",
       "      <td>Rio de Janeiro</td>\n",
       "      <td>mouse</td>\n",
       "      <td>20.0</td>\n",
       "      <td>NaT</td>\n",
       "      <td>0</td>\n",
       "      <td>NaN</td>\n",
       "      <td>54.0</td>\n",
       "    </tr>\n",
       "    <tr>\n",
       "      <th>3000</th>\n",
       "      <td>770</td>\n",
       "      <td>2</td>\n",
       "      <td>2</td>\n",
       "      <td>2020-09-27</td>\n",
       "      <td>Beatrice Castro</td>\n",
       "      <td>F</td>\n",
       "      <td>1944-06-25</td>\n",
       "      <td>Rio de Janeiro</td>\n",
       "      <td>teclado</td>\n",
       "      <td>30.0</td>\n",
       "      <td>NaT</td>\n",
       "      <td>0</td>\n",
       "      <td>NaN</td>\n",
       "      <td>76.0</td>\n",
       "    </tr>\n",
       "  </tbody>\n",
       "</table>\n",
       "<p>3000 rows × 14 columns</p>\n",
       "</div>"
      ],
      "text/plain": [
       "      id_cliente  id_loja  id_produto   dt_venda     cliente_nome  \\\n",
       "id                                                                  \n",
       "1            393        9           3 2018-01-04    Gustavo Silva   \n",
       "2            417        9           3 2018-01-04   Leonor Almeida   \n",
       "3            374        7           8 2018-01-04      André Alves   \n",
       "4             59        4           3 2018-01-05  Rodrigo Ribeiro   \n",
       "5             18        9           1 2018-01-05  Antônio Azevedo   \n",
       "...          ...      ...         ...        ...              ...   \n",
       "2996         671        3           7 2020-09-27    Ana Goncalves   \n",
       "2997         586        8           3 2020-09-27      Aline Pinto   \n",
       "2998         731        2           4 2020-09-27     Otávio Silva   \n",
       "2999         163        2           1 2020-09-27      Ana Pereira   \n",
       "3000         770        2           2 2020-09-27  Beatrice Castro   \n",
       "\n",
       "     cliente_sexo cliente_dt_nasc     loja_cidade produto_produto  \\\n",
       "id                                                                  \n",
       "1               M      1950-01-04          Palmas   laptop básico   \n",
       "2               F      1972-01-31          Palmas   laptop básico   \n",
       "3               M      1962-08-03        Salvador         cadeira   \n",
       "4               M      1941-11-05  Belo Horizonte   laptop básico   \n",
       "5               M      1941-04-15          Palmas           mouse   \n",
       "...           ...             ...             ...             ...   \n",
       "2996            F      1999-10-31        Curitiba      carregador   \n",
       "2997            F      1994-03-29        Brasília   laptop básico   \n",
       "2998            M      1986-05-04  Rio de Janeiro    laptop gamer   \n",
       "2999            F      1967-01-10  Rio de Janeiro           mouse   \n",
       "3000            F      1944-06-25  Rio de Janeiro         teclado   \n",
       "\n",
       "      produto_valor    dt_pgto  pg  tempo_pg  cliente_idade  \n",
       "id                                                           \n",
       "1            2300.0 2018-01-24   1      20.0           71.0  \n",
       "2            2300.0 2018-02-17   1      44.0           49.0  \n",
       "3             540.0 2018-02-14   1      41.0           58.0  \n",
       "4            2300.0        NaT   0       NaN           79.0  \n",
       "5              20.0 2018-01-23   1      18.0           80.0  \n",
       "...             ...        ...  ..       ...            ...  \n",
       "2996          150.0 2020-10-17   1      20.0           21.0  \n",
       "2997         2300.0 2020-10-02   1       5.0           27.0  \n",
       "2998         5300.0        NaT   0       NaN           34.0  \n",
       "2999           20.0        NaT   0       NaN           54.0  \n",
       "3000           30.0        NaT   0       NaN           76.0  \n",
       "\n",
       "[3000 rows x 14 columns]"
      ]
     },
     "execution_count": 81,
     "metadata": {},
     "output_type": "execute_result"
    }
   ],
   "source": [
    "import numpy\n",
    "df['cliente_idade'] = numpy.floor((pandas.to_datetime('today') - df.cliente_dt_nasc)/numpy.timedelta64(1,'Y'))\n",
    "df"
   ]
  },
  {
   "cell_type": "markdown",
   "id": "bfbb600d-2ba7-4c13-9d91-d95e9be00e13",
   "metadata": {},
   "source": [
    "# Analises"
   ]
  },
  {
   "cell_type": "code",
   "execution_count": 86,
   "id": "30679daf-3b18-4a25-8a60-ca206ea66efb",
   "metadata": {},
   "outputs": [
    {
     "data": {
      "text/plain": [
       "loja_cidade\n",
       "Rio de Janeiro    1087\n",
       "Salvador           234\n",
       "Vitória            231\n",
       "Brasília           223\n",
       "Belo Horizonte     221\n",
       "Recife             211\n",
       "São Paulo          207\n",
       "Palmas             202\n",
       "Curitiba           193\n",
       "Santa Catarina     191\n",
       "Name: produto_valor, dtype: int64"
      ]
     },
     "execution_count": 86,
     "metadata": {},
     "output_type": "execute_result"
    }
   ],
   "source": [
    "graf_dados = df.groupby('loja_cidade').count().produto_valor.sort_values(ascending=False)\n",
    "graf_dados"
   ]
  },
  {
   "cell_type": "code",
   "execution_count": 87,
   "id": "4626b004-923d-4818-89a3-623b93a3da41",
   "metadata": {},
   "outputs": [
    {
     "data": {
      "text/plain": [
       "Text(0.5, 1.0, 'Vendas por loja')"
      ]
     },
     "execution_count": 87,
     "metadata": {},
     "output_type": "execute_result"
    },
    {
     "data": {
      "image/png": "[encoded data removed]",
      "text/plain": [
       "<Figure size 1080x360 with 1 Axes>"
      ]
     },
     "metadata": {
      "needs_background": "light"
     },
     "output_type": "display_data"
    }
   ],
   "source": [
    "import matplotlib.pyplot as plt\n",
    "plt.figure(figsize=(15,5))\n",
    "plt.bar(graf_dados.index, graf_dados.values)\n",
    "plt.title('Vendas por loja')"
   ]
  },
  {
   "cell_type": "markdown",
   "id": "ead26155-5ba4-4b8c-ae21-244294d91470",
   "metadata": {},
   "source": [
    "## Produtos que mais vendem"
   ]
  },
  {
   "cell_type": "code",
   "execution_count": null,
   "id": "19308660-b3f7-46f9-bbd1-54dd5b313dae",
   "metadata": {},
   "outputs": [],
   "source": []
  }
 ],
 "metadata": {
  "kernelspec": {
   "display_name": "Python 3",
   "language": "python",
   "name": "python3"
  },
  "language_info": {
   "codemirror_mode": {
    "name": "ipython",
    "version": 3
   },
   "file_extension": ".py",
   "mimetype": "text/x-python",
   "name": "python",
   "nbconvert_exporter": "python",
   "pygments_lexer": "ipython3",
   "version": "3.8.5"
  }
 },
 "nbformat": 4,
 "nbformat_minor": 5
}
